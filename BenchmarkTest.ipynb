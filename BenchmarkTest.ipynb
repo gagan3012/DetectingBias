{
  "nbformat": 4,
  "nbformat_minor": 0,
  "metadata": {
    "colab": {
      "name": "BenchmarkTest.ipynb",
      "provenance": [],
      "authorship_tag": "ABX9TyONxpkEkjJBmhiRpQlktEGA",
      "include_colab_link": true
    },
    "kernelspec": {
      "name": "python3",
      "display_name": "Python 3"
    },
    "accelerator": "GPU"
  },
  "cells": [
    {
      "cell_type": "markdown",
      "metadata": {
        "id": "view-in-github",
        "colab_type": "text"
      },
      "source": [
        "<a href=\"https://colab.research.google.com/github/gagan3012/Fox-News-Generator/blob/master/BenchmarkTest.ipynb\" target=\"_parent\"><img src=\"https://colab.research.google.com/assets/colab-badge.svg\" alt=\"Open In Colab\"/></a>"
      ]
    },
    {
      "cell_type": "code",
      "metadata": {
        "colab": {
          "base_uri": "https://localhost:8080/"
        },
        "id": "Q2UIDN2Pm0TH",
        "outputId": "ea9e5eb6-e86d-410d-e10a-8b2cd6b70c48"
      },
      "source": [
        "import torch\r\n",
        "from transformers import AutoTokenizer, AutoModelWithLMHead\r\n",
        "\r\n",
        "tokenizer = AutoTokenizer.from_pretrained(\"gagan3012/Fox-News-Generator\")\r\n",
        "\r\n",
        "model = AutoModelWithLMHead.from_pretrained(\"gagan3012/Fox-News-Generator\")"
      ],
      "execution_count": 6,
      "outputs": [
        {
          "output_type": "stream",
          "text": [
            "/usr/local/lib/python3.7/dist-packages/transformers/models/auto/modeling_auto.py:970: FutureWarning: The class `AutoModelWithLMHead` is deprecated and will be removed in a future version. Please use `AutoModelForCausalLM` for causal language models, `AutoModelForMaskedLM` for masked language models and `AutoModelForSeq2SeqLM` for encoder-decoder models.\n",
            "  FutureWarning,\n"
          ],
          "name": "stderr"
        }
      ]
    },
    {
      "cell_type": "code",
      "metadata": {
        "colab": {
          "base_uri": "https://localhost:8080/"
        },
        "id": "04uv8Jbtm_Jj",
        "outputId": "41d2059d-298d-4af1-ad56-2c44269b7b4b"
      },
      "source": [
        "print(tokenizer(\"Hello world\"))\r\n",
        "print(tokenizer(\" Hello world\"))"
      ],
      "execution_count": 7,
      "outputs": [
        {
          "output_type": "stream",
          "text": [
            "{'input_ids': [15496, 995], 'attention_mask': [1, 1]}\n",
            "{'input_ids': [18435, 995], 'attention_mask': [1, 1]}\n"
          ],
          "name": "stdout"
        }
      ]
    },
    {
      "cell_type": "code",
      "metadata": {
        "colab": {
          "base_uri": "https://localhost:8080/"
        },
        "id": "K4O89yOCnOA1",
        "outputId": "76f3a6fd-3744-4a5c-f644-c190d2b7a65c"
      },
      "source": [
        "sequence = \"\"\"Joe Biden reacts to Tiger Woods accident: \"\"\"\r\n",
        "inputs = tokenizer.encode(sequence, return_tensors='pt')\r\n",
        "outputs = model.generate(inputs, max_length=1024, do_sample=True, temperature=0.5, top_p=1.0)\r\n",
        "text = tokenizer.decode(outputs[0], skip_special_tokens=True)\r\n",
        "print(text)"
      ],
      "execution_count": 9,
      "outputs": [
        {
          "output_type": "stream",
          "text": [
            "Setting `pad_token_id` to `eos_token_id`:50256 for open-end generation.\n"
          ],
          "name": "stderr"
        },
        {
          "output_type": "stream",
          "text": [
            "Joe Biden reacts to Tiger Woods accident:  ”He was a great guy. He was the nicest guy I’ve ever met.”                                                                                                                                                                                                                                                                                                                                                                                                                                                                                                                                                                                                                                                                                                                                                                                                                                                                                                                                                                                                                                \n"
          ],
          "name": "stdout"
        }
      ]
    },
    {
      "cell_type": "code",
      "metadata": {
        "colab": {
          "base_uri": "https://localhost:8080/"
        },
        "id": "lJ0CBhBnnsyL",
        "outputId": "65e3c5a1-c6fc-4123-b2bd-24e5d76a5a47"
      },
      "source": [
        "sequence = \"\"\"Seldom has such an amateur armchair diagnosis been so easy as when ex-President Donald Trump and the Fox News switchboard reconnected on Wednesday for a conversation about\"\"\"\r\n",
        "inputs = tokenizer.encode(sequence, return_tensors='pt')\r\n",
        "outputs = model.generate(inputs, max_length=1024, do_sample=True, temperature=0.5, top_p=1.0)\r\n",
        "text = tokenizer.decode(outputs[0], skip_special_tokens=True)\r\n",
        "print(text)"
      ],
      "execution_count": 10,
      "outputs": [
        {
          "output_type": "stream",
          "text": [
            "Setting `pad_token_id` to `eos_token_id`:50256 for open-end generation.\n"
          ],
          "name": "stderr"
        },
        {
          "output_type": "stream",
          "text": [
            "Seldom has such an amateur armchair diagnosis been so easy as when ex-President Donald Trump and the Fox News switchboard reconnected on Wednesday for a conversation about the economy,” said Elizabeth Trudeau, president of the Federation for American Immigration Reform. “I suspect they’re just trying to find a way to make Trump look bad. ” The controversy is unfolding amid a series of leaked emails showing the   Trump aides discussing the possibility of a “  ” in immigration policy. The emails show Trump aides discussing a plan to “immediately deport” illegal immigrants living in the United States. The plan was to “make it easier for illegal immigrants living in the United States to obtain work permits,” according to one email, which was obtained by FoxNews. com. The plan was to “immediately deport” illegal immigrants living in the United States. Trump has called for a temporary ban on legal immigration to prevent “criminals” from entering the country. Trump has called for a temporary ban on legal immigration to prevent “criminals” from entering the country. The latest headlines on the 2016 elections from the biggest name in politics. See Latest Coverage → The plan was floated in May 2015. Trump’s campaign had argued that a temporary ban would allow him to deport millions of illegal immigrants living in the U. S. “I like it,” Trump said at the time. Trump later said he would consider such a plan, but said he would not make the decision until the country has normalized relations with the U. S. “I don’t want to do it,” Trump said during a campaign rally in South Carolina. “I don’t want to do it right now. ” The latest headlines on the 2016 elections from the biggest name in politics. See Latest Coverage → Trump’s campaign manager Kellyanne Conway on Wednesday called for a temporary ban on legal immigration to prevent “criminals” from entering the country. The Associated Press contributed to this report.\n"
          ],
          "name": "stdout"
        }
      ]
    },
    {
      "cell_type": "code",
      "metadata": {
        "id": "fcEY9VbFsIvr"
      },
      "source": [
        ""
      ],
      "execution_count": null,
      "outputs": []
    }
  ]
}