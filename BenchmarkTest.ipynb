{
  "nbformat": 4,
  "nbformat_minor": 0,
  "metadata": {
    "colab": {
      "name": "BenchmarkTest.ipynb",
      "provenance": [],
      "authorship_tag": "ABX9TyOeif/dON5u0KwJ2uong+Zp",
      "include_colab_link": true
    },
    "kernelspec": {
      "name": "python3",
      "display_name": "Python 3"
    },
    "accelerator": "GPU"
  },
  "cells": [
    {
      "cell_type": "markdown",
      "metadata": {
        "id": "view-in-github",
        "colab_type": "text"
      },
      "source": [
        "<a href=\"https://colab.research.google.com/github/gagan3012/Fox-News-Generator/blob/master/BenchmarkTest.ipynb\" target=\"_parent\"><img src=\"https://colab.research.google.com/assets/colab-badge.svg\" alt=\"Open In Colab\"/></a>"
      ]
    },
    {
      "cell_type": "code",
      "metadata": {
        "colab": {
          "base_uri": "https://localhost:8080/"
        },
        "id": "Q2UIDN2Pm0TH",
        "outputId": "ea9e5eb6-e86d-410d-e10a-8b2cd6b70c48"
      },
      "source": [
        "import torch\r\n",
        "from transformers import AutoTokenizer, AutoModelWithLMHead\r\n",
        "\r\n",
        "tokenizer = AutoTokenizer.from_pretrained(\"gagan3012/Fox-News-Generator\")\r\n",
        "\r\n",
        "model = AutoModelWithLMHead.from_pretrained(\"gagan3012/Fox-News-Generator\")"
      ],
      "execution_count": 6,
      "outputs": [
        {
          "output_type": "stream",
          "text": [
            "/usr/local/lib/python3.7/dist-packages/transformers/models/auto/modeling_auto.py:970: FutureWarning: The class `AutoModelWithLMHead` is deprecated and will be removed in a future version. Please use `AutoModelForCausalLM` for causal language models, `AutoModelForMaskedLM` for masked language models and `AutoModelForSeq2SeqLM` for encoder-decoder models.\n",
            "  FutureWarning,\n"
          ],
          "name": "stderr"
        }
      ]
    },
    {
      "cell_type": "code",
      "metadata": {
        "colab": {
          "base_uri": "https://localhost:8080/"
        },
        "id": "04uv8Jbtm_Jj",
        "outputId": "41d2059d-298d-4af1-ad56-2c44269b7b4b"
      },
      "source": [
        "print(tokenizer(\"Hello world\"))\r\n",
        "print(tokenizer(\" Hello world\"))"
      ],
      "execution_count": 7,
      "outputs": [
        {
          "output_type": "stream",
          "text": [
            "{'input_ids': [15496, 995], 'attention_mask': [1, 1]}\n",
            "{'input_ids': [18435, 995], 'attention_mask': [1, 1]}\n"
          ],
          "name": "stdout"
        }
      ]
    },
    {
      "cell_type": "code",
      "metadata": {
        "colab": {
          "base_uri": "https://localhost:8080/"
        },
        "id": "K4O89yOCnOA1",
        "outputId": "76f3a6fd-3744-4a5c-f644-c190d2b7a65c"
      },
      "source": [
        "sequence = \"\"\"Joe Biden reacts to Tiger Woods accident: \"\"\"\r\n",
        "inputs = tokenizer.encode(sequence, return_tensors='pt')\r\n",
        "outputs = model.generate(inputs, max_length=1024, do_sample=True, temperature=0.5, top_p=1.0)\r\n",
        "text = tokenizer.decode(outputs[0], skip_special_tokens=True)\r\n",
        "print(text)"
      ],
      "execution_count": 9,
      "outputs": [
        {
          "output_type": "stream",
          "text": [
            "Setting `pad_token_id` to `eos_token_id`:50256 for open-end generation.\n"
          ],
          "name": "stderr"
        },
        {
          "output_type": "stream",
          "text": [
            "Joe Biden reacts to Tiger Woods accident:  ”He was a great guy. He was the nicest guy I’ve ever met.”                                                                                                                                                                                                                                                                                                                                                                                                                                                                                                                                                                                                                                                                                                                                                                                                                                                                                                                                                                                                                                \n"
          ],
          "name": "stdout"
        }
      ]
    },
    {
      "cell_type": "code",
      "metadata": {
        "id": "lJ0CBhBnnsyL"
      },
      "source": [
        ""
      ],
      "execution_count": null,
      "outputs": []
    }
  ]
}