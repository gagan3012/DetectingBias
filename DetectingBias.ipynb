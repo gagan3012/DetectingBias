{
  "nbformat": 4,
  "nbformat_minor": 0,
  "metadata": {
    "colab": {
      "name": "DetectingBias.ipynb",
      "provenance": [],
      "authorship_tag": "ABX9TyNR79QBwE5R70COcg5TZ9vD",
      "include_colab_link": true
    },
    "kernelspec": {
      "name": "python3",
      "display_name": "Python 3"
    },
    "accelerator": "GPU"
  },
  "cells": [
    {
      "cell_type": "markdown",
      "metadata": {
        "id": "view-in-github",
        "colab_type": "text"
      },
      "source": [
        "<a href=\"https://colab.research.google.com/github/gagan3012/DetectingBias/blob/master/DetectingBias.ipynb\" target=\"_parent\"><img src=\"https://colab.research.google.com/assets/colab-badge.svg\" alt=\"Open In Colab\"/></a>"
      ]
    },
    {
      "cell_type": "code",
      "metadata": {
        "colab": {
          "base_uri": "https://localhost:8080/"
        },
        "id": "g7VGGmqX29Rr",
        "outputId": "c7eb5e8d-a451-465f-99de-81002255f79f"
      },
      "source": [
        "gpu_info = !nvidia-smi\r\n",
        "gpu_info = '\\n'.join(gpu_info)\r\n",
        "if gpu_info.find('failed') >= 0:\r\n",
        "  print('Select the Runtime → \"Change runtime type\" menu to enable a GPU accelerator, ')\r\n",
        "  print('and then re-execute this cell.')\r\n",
        "else:\r\n",
        "  print(gpu_info)\r\n"
      ],
      "execution_count": 21,
      "outputs": [
        {
          "output_type": "stream",
          "text": [
            "Fri Feb 26 18:10:47 2021       \n",
            "+-----------------------------------------------------------------------------+\n",
            "| NVIDIA-SMI 460.39       Driver Version: 460.32.03    CUDA Version: 11.2     |\n",
            "|-------------------------------+----------------------+----------------------+\n",
            "| GPU  Name        Persistence-M| Bus-Id        Disp.A | Volatile Uncorr. ECC |\n",
            "| Fan  Temp  Perf  Pwr:Usage/Cap|         Memory-Usage | GPU-Util  Compute M. |\n",
            "|                               |                      |               MIG M. |\n",
            "|===============================+======================+======================|\n",
            "|   0  Tesla T4            Off  | 00000000:00:04.0 Off |                    0 |\n",
            "| N/A   77C    P0    35W /  70W |   8492MiB / 15109MiB |      0%      Default |\n",
            "|                               |                      |                  N/A |\n",
            "+-------------------------------+----------------------+----------------------+\n",
            "                                                                               \n",
            "+-----------------------------------------------------------------------------+\n",
            "| Processes:                                                                  |\n",
            "|  GPU   GI   CI        PID   Type   Process name                  GPU Memory |\n",
            "|        ID   ID                                                   Usage      |\n",
            "|=============================================================================|\n",
            "+-----------------------------------------------------------------------------+\n"
          ],
          "name": "stdout"
        }
      ]
    },
    {
      "cell_type": "code",
      "metadata": {
        "colab": {
          "base_uri": "https://localhost:8080/"
        },
        "id": "lG2RqhMO3lVD",
        "outputId": "fc6868a2-a95d-42a2-8873-c66d90a91ed8"
      },
      "source": [
        "!pip install tensorflow==1.15 #CPU\r\n",
        "!pip install tensorflow-gpu==1.15  # GPU\r\n",
        "!pip install -q gpt-2-simple\r\n",
        "import gpt_2_simple as gpt2\r\n",
        "from datetime import datetime\r\n",
        "import json\r\n",
        "import numpy as np\r\n",
        "import pandas as pd\r\n",
        "import matplotlib.pyplot as plt"
      ],
      "execution_count": 22,
      "outputs": [
        {
          "output_type": "stream",
          "text": [
            "Requirement already satisfied: tensorflow==1.15 in /usr/local/lib/python3.7/dist-packages (1.15.0)\n",
            "Requirement already satisfied: keras-applications>=1.0.8 in /usr/local/lib/python3.7/dist-packages (from tensorflow==1.15) (1.0.8)\n",
            "Requirement already satisfied: numpy<2.0,>=1.16.0 in /usr/local/lib/python3.7/dist-packages (from tensorflow==1.15) (1.19.5)\n",
            "Requirement already satisfied: six>=1.10.0 in /usr/local/lib/python3.7/dist-packages (from tensorflow==1.15) (1.15.0)\n",
            "Requirement already satisfied: opt-einsum>=2.3.2 in /usr/local/lib/python3.7/dist-packages (from tensorflow==1.15) (3.3.0)\n",
            "Requirement already satisfied: wrapt>=1.11.1 in /usr/local/lib/python3.7/dist-packages (from tensorflow==1.15) (1.12.1)\n",
            "Requirement already satisfied: wheel>=0.26 in /usr/local/lib/python3.7/dist-packages (from tensorflow==1.15) (0.36.2)\n",
            "Requirement already satisfied: protobuf>=3.6.1 in /usr/local/lib/python3.7/dist-packages (from tensorflow==1.15) (3.12.4)\n",
            "Requirement already satisfied: absl-py>=0.7.0 in /usr/local/lib/python3.7/dist-packages (from tensorflow==1.15) (0.10.0)\n",
            "Requirement already satisfied: termcolor>=1.1.0 in /usr/local/lib/python3.7/dist-packages (from tensorflow==1.15) (1.1.0)\n",
            "Requirement already satisfied: tensorboard<1.16.0,>=1.15.0 in /usr/local/lib/python3.7/dist-packages (from tensorflow==1.15) (1.15.0)\n",
            "Requirement already satisfied: gast==0.2.2 in /usr/local/lib/python3.7/dist-packages (from tensorflow==1.15) (0.2.2)\n",
            "Requirement already satisfied: google-pasta>=0.1.6 in /usr/local/lib/python3.7/dist-packages (from tensorflow==1.15) (0.2.0)\n",
            "Requirement already satisfied: tensorflow-estimator==1.15.1 in /usr/local/lib/python3.7/dist-packages (from tensorflow==1.15) (1.15.1)\n",
            "Requirement already satisfied: grpcio>=1.8.6 in /usr/local/lib/python3.7/dist-packages (from tensorflow==1.15) (1.32.0)\n",
            "Requirement already satisfied: astor>=0.6.0 in /usr/local/lib/python3.7/dist-packages (from tensorflow==1.15) (0.8.1)\n",
            "Requirement already satisfied: keras-preprocessing>=1.0.5 in /usr/local/lib/python3.7/dist-packages (from tensorflow==1.15) (1.1.2)\n",
            "Requirement already satisfied: h5py in /usr/local/lib/python3.7/dist-packages (from keras-applications>=1.0.8->tensorflow==1.15) (2.10.0)\n",
            "Requirement already satisfied: setuptools in /usr/local/lib/python3.7/dist-packages (from protobuf>=3.6.1->tensorflow==1.15) (53.0.0)\n",
            "Requirement already satisfied: werkzeug>=0.11.15 in /usr/local/lib/python3.7/dist-packages (from tensorboard<1.16.0,>=1.15.0->tensorflow==1.15) (1.0.1)\n",
            "Requirement already satisfied: markdown>=2.6.8 in /usr/local/lib/python3.7/dist-packages (from tensorboard<1.16.0,>=1.15.0->tensorflow==1.15) (3.3.3)\n",
            "Requirement already satisfied: importlib-metadata; python_version < \"3.8\" in /usr/local/lib/python3.7/dist-packages (from markdown>=2.6.8->tensorboard<1.16.0,>=1.15.0->tensorflow==1.15) (3.4.0)\n",
            "Requirement already satisfied: zipp>=0.5 in /usr/local/lib/python3.7/dist-packages (from importlib-metadata; python_version < \"3.8\"->markdown>=2.6.8->tensorboard<1.16.0,>=1.15.0->tensorflow==1.15) (3.4.0)\n",
            "Requirement already satisfied: typing-extensions>=3.6.4; python_version < \"3.8\" in /usr/local/lib/python3.7/dist-packages (from importlib-metadata; python_version < \"3.8\"->markdown>=2.6.8->tensorboard<1.16.0,>=1.15.0->tensorflow==1.15) (3.7.4.3)\n",
            "Requirement already satisfied: tensorflow-gpu==1.15 in /usr/local/lib/python3.7/dist-packages (1.15.0)\n",
            "Requirement already satisfied: grpcio>=1.8.6 in /usr/local/lib/python3.7/dist-packages (from tensorflow-gpu==1.15) (1.32.0)\n",
            "Requirement already satisfied: wheel>=0.26 in /usr/local/lib/python3.7/dist-packages (from tensorflow-gpu==1.15) (0.36.2)\n",
            "Requirement already satisfied: numpy<2.0,>=1.16.0 in /usr/local/lib/python3.7/dist-packages (from tensorflow-gpu==1.15) (1.19.5)\n",
            "Requirement already satisfied: absl-py>=0.7.0 in /usr/local/lib/python3.7/dist-packages (from tensorflow-gpu==1.15) (0.10.0)\n",
            "Requirement already satisfied: opt-einsum>=2.3.2 in /usr/local/lib/python3.7/dist-packages (from tensorflow-gpu==1.15) (3.3.0)\n",
            "Requirement already satisfied: google-pasta>=0.1.6 in /usr/local/lib/python3.7/dist-packages (from tensorflow-gpu==1.15) (0.2.0)\n",
            "Requirement already satisfied: keras-applications>=1.0.8 in /usr/local/lib/python3.7/dist-packages (from tensorflow-gpu==1.15) (1.0.8)\n",
            "Requirement already satisfied: six>=1.10.0 in /usr/local/lib/python3.7/dist-packages (from tensorflow-gpu==1.15) (1.15.0)\n",
            "Requirement already satisfied: tensorflow-estimator==1.15.1 in /usr/local/lib/python3.7/dist-packages (from tensorflow-gpu==1.15) (1.15.1)\n",
            "Requirement already satisfied: wrapt>=1.11.1 in /usr/local/lib/python3.7/dist-packages (from tensorflow-gpu==1.15) (1.12.1)\n",
            "Requirement already satisfied: gast==0.2.2 in /usr/local/lib/python3.7/dist-packages (from tensorflow-gpu==1.15) (0.2.2)\n",
            "Requirement already satisfied: protobuf>=3.6.1 in /usr/local/lib/python3.7/dist-packages (from tensorflow-gpu==1.15) (3.12.4)\n",
            "Requirement already satisfied: termcolor>=1.1.0 in /usr/local/lib/python3.7/dist-packages (from tensorflow-gpu==1.15) (1.1.0)\n",
            "Requirement already satisfied: tensorboard<1.16.0,>=1.15.0 in /usr/local/lib/python3.7/dist-packages (from tensorflow-gpu==1.15) (1.15.0)\n",
            "Requirement already satisfied: keras-preprocessing>=1.0.5 in /usr/local/lib/python3.7/dist-packages (from tensorflow-gpu==1.15) (1.1.2)\n",
            "Requirement already satisfied: astor>=0.6.0 in /usr/local/lib/python3.7/dist-packages (from tensorflow-gpu==1.15) (0.8.1)\n",
            "Requirement already satisfied: h5py in /usr/local/lib/python3.7/dist-packages (from keras-applications>=1.0.8->tensorflow-gpu==1.15) (2.10.0)\n",
            "Requirement already satisfied: setuptools in /usr/local/lib/python3.7/dist-packages (from protobuf>=3.6.1->tensorflow-gpu==1.15) (53.0.0)\n",
            "Requirement already satisfied: markdown>=2.6.8 in /usr/local/lib/python3.7/dist-packages (from tensorboard<1.16.0,>=1.15.0->tensorflow-gpu==1.15) (3.3.3)\n",
            "Requirement already satisfied: werkzeug>=0.11.15 in /usr/local/lib/python3.7/dist-packages (from tensorboard<1.16.0,>=1.15.0->tensorflow-gpu==1.15) (1.0.1)\n",
            "Requirement already satisfied: importlib-metadata; python_version < \"3.8\" in /usr/local/lib/python3.7/dist-packages (from markdown>=2.6.8->tensorboard<1.16.0,>=1.15.0->tensorflow-gpu==1.15) (3.4.0)\n",
            "Requirement already satisfied: zipp>=0.5 in /usr/local/lib/python3.7/dist-packages (from importlib-metadata; python_version < \"3.8\"->markdown>=2.6.8->tensorboard<1.16.0,>=1.15.0->tensorflow-gpu==1.15) (3.4.0)\n",
            "Requirement already satisfied: typing-extensions>=3.6.4; python_version < \"3.8\" in /usr/local/lib/python3.7/dist-packages (from importlib-metadata; python_version < \"3.8\"->markdown>=2.6.8->tensorboard<1.16.0,>=1.15.0->tensorflow-gpu==1.15) (3.7.4.3)\n"
          ],
          "name": "stdout"
        }
      ]
    },
    {
      "cell_type": "code",
      "metadata": {
        "colab": {
          "base_uri": "https://localhost:8080/"
        },
        "id": "9gx3DSVw4HCn",
        "outputId": "1c1f0fd7-74fa-4fcb-9cc8-09db805bbc43"
      },
      "source": [
        "gpt2.download_gpt2(model_name=\"124M\")\r\n",
        "\r\n",
        "gpt2.mount_gdrive()"
      ],
      "execution_count": 23,
      "outputs": [
        {
          "output_type": "stream",
          "text": [
            "Fetching checkpoint: 1.05Mit [00:00, 207Mit/s]                                                      \n",
            "Fetching encoder.json: 1.05Mit [00:00, 3.50Mit/s]\n",
            "Fetching hparams.json: 1.05Mit [00:00, 586Mit/s]                                                    \n",
            "Fetching model.ckpt.data-00000-of-00001: 498Mit [00:11, 43.5Mit/s]                                  \n",
            "Fetching model.ckpt.index: 1.05Mit [00:00, 442Mit/s]                                                \n",
            "Fetching model.ckpt.meta: 1.05Mit [00:00, 4.60Mit/s]\n",
            "Fetching vocab.bpe: 1.05Mit [00:00, 5.02Mit/s]"
          ],
          "name": "stderr"
        },
        {
          "output_type": "stream",
          "text": [
            "Drive already mounted at /content/drive; to attempt to forcibly remount, call drive.mount(\"/content/drive\", force_remount=True).\n"
          ],
          "name": "stdout"
        },
        {
          "output_type": "stream",
          "text": [
            "\n"
          ],
          "name": "stderr"
        }
      ]
    },
    {
      "cell_type": "code",
      "metadata": {
        "id": "penhvPqC5_te"
      },
      "source": [
        "!pip install -U -q kaggle\r\n",
        "!mkdir -p .kaggle"
      ],
      "execution_count": 4,
      "outputs": []
    },
    {
      "cell_type": "code",
      "metadata": {
        "id": "AiL6JFzM8XkQ"
      },
      "source": [
        "access_key = {\"username\":\"gagan2000\",\"key\":\"73e5d9db85677b98fe016b25873727ec\"}\r\n",
        "\r\n",
        "with open('/root/.kaggle/kaggle.json', 'w') as file:\r\n",
        "    json.dump(access_key, file)"
      ],
      "execution_count": 5,
      "outputs": []
    },
    {
      "cell_type": "code",
      "metadata": {
        "id": "6ZxFWUgQ9Vas"
      },
      "source": [
        "!chmod 600 ~/.kaggle/kaggle.json\r\n"
      ],
      "execution_count": 6,
      "outputs": []
    },
    {
      "cell_type": "code",
      "metadata": {
        "colab": {
          "base_uri": "https://localhost:8080/"
        },
        "id": "szdqetp788Z5",
        "outputId": "0cb71027-325e-4571-8bbe-e67e9528105a"
      },
      "source": [
        "!kaggle datasets download -d snapcrack/all-the-news -p /content"
      ],
      "execution_count": 10,
      "outputs": [
        {
          "output_type": "stream",
          "text": [
            "Downloading all-the-news.zip to /content\n",
            " 94% 229M/244M [00:02<00:00, 91.5MB/s]\n",
            "100% 244M/244M [00:02<00:00, 91.0MB/s]\n"
          ],
          "name": "stdout"
        }
      ]
    },
    {
      "cell_type": "code",
      "metadata": {
        "colab": {
          "base_uri": "https://localhost:8080/"
        },
        "id": "nE-wqYam9GDm",
        "outputId": "3ffdfb22-3518-45e8-bfa7-7449f7868812"
      },
      "source": [
        "!unzip /content/all-the-news.zip -d /content/"
      ],
      "execution_count": 11,
      "outputs": [
        {
          "output_type": "stream",
          "text": [
            "Archive:  /content/all-the-news.zip\n",
            "  inflating: /content/articles1.csv  \n",
            "  inflating: /content/articles2.csv  \n",
            "  inflating: /content/articles3.csv  \n"
          ],
          "name": "stdout"
        }
      ]
    },
    {
      "cell_type": "code",
      "metadata": {
        "id": "sPa8IfcL9cBX"
      },
      "source": [
        "d1 = pd.read_csv('articles1.csv', encoding = 'utf-8')\r\n",
        "d2 = pd.read_csv('articles2.csv', encoding = 'utf-8')\r\n",
        "d3 = pd.read_csv('articles3.csv', encoding = 'utf-8')\r\n",
        "data = pd.concat([d1, d2, d3])"
      ],
      "execution_count": 24,
      "outputs": []
    },
    {
      "cell_type": "code",
      "metadata": {
        "colab": {
          "base_uri": "https://localhost:8080/",
          "height": 495
        },
        "id": "mQDN6g399hQ4",
        "outputId": "a3ccb1db-9463-421a-a4bd-078fbe6f7593"
      },
      "source": [
        "data.head()"
      ],
      "execution_count": 8,
      "outputs": [
        {
          "output_type": "execute_result",
          "data": {
            "text/html": [
              "<div>\n",
              "<style scoped>\n",
              "    .dataframe tbody tr th:only-of-type {\n",
              "        vertical-align: middle;\n",
              "    }\n",
              "\n",
              "    .dataframe tbody tr th {\n",
              "        vertical-align: top;\n",
              "    }\n",
              "\n",
              "    .dataframe thead th {\n",
              "        text-align: right;\n",
              "    }\n",
              "</style>\n",
              "<table border=\"1\" class=\"dataframe\">\n",
              "  <thead>\n",
              "    <tr style=\"text-align: right;\">\n",
              "      <th></th>\n",
              "      <th>Unnamed: 0</th>\n",
              "      <th>id</th>\n",
              "      <th>title</th>\n",
              "      <th>publication</th>\n",
              "      <th>author</th>\n",
              "      <th>date</th>\n",
              "      <th>year</th>\n",
              "      <th>month</th>\n",
              "      <th>url</th>\n",
              "      <th>content</th>\n",
              "    </tr>\n",
              "  </thead>\n",
              "  <tbody>\n",
              "    <tr>\n",
              "      <th>42566</th>\n",
              "      <td>146028</td>\n",
              "      <td>218078</td>\n",
              "      <td>An eavesdropping Uber driver saved his 16-year...</td>\n",
              "      <td>Washington Post</td>\n",
              "      <td>Avi Selk</td>\n",
              "      <td>2016-12-30</td>\n",
              "      <td>2016.0</td>\n",
              "      <td>12.0</td>\n",
              "      <td>https://web.archive.org/web/20161231004909/htt...</td>\n",
              "      <td>Uber driver Keith Avila picked up a p...</td>\n",
              "    </tr>\n",
              "    <tr>\n",
              "      <th>42567</th>\n",
              "      <td>146029</td>\n",
              "      <td>218079</td>\n",
              "      <td>Plane carrying six people returning from a Cav...</td>\n",
              "      <td>Washington Post</td>\n",
              "      <td>Sarah Larimer</td>\n",
              "      <td>2016-12-30</td>\n",
              "      <td>2016.0</td>\n",
              "      <td>12.0</td>\n",
              "      <td>https://web.archive.org/web/20161231004909/htt...</td>\n",
              "      <td>Crews on Friday continued to search L...</td>\n",
              "    </tr>\n",
              "    <tr>\n",
              "      <th>42568</th>\n",
              "      <td>146030</td>\n",
              "      <td>218080</td>\n",
              "      <td>After helping a fraction of homeowners expecte...</td>\n",
              "      <td>Washington Post</td>\n",
              "      <td>Renae Merle</td>\n",
              "      <td>2016-12-30</td>\n",
              "      <td>2016.0</td>\n",
              "      <td>12.0</td>\n",
              "      <td>https://web.archive.org/web/20161231004909/htt...</td>\n",
              "      <td>When the Obama administration announced a...</td>\n",
              "    </tr>\n",
              "    <tr>\n",
              "      <th>42569</th>\n",
              "      <td>146031</td>\n",
              "      <td>218081</td>\n",
              "      <td>Yes, this is real: Michigan just banned bannin...</td>\n",
              "      <td>Washington Post</td>\n",
              "      <td>Chelsea Harvey</td>\n",
              "      <td>2016-12-30</td>\n",
              "      <td>2016.0</td>\n",
              "      <td>12.0</td>\n",
              "      <td>https://web.archive.org/web/20161231004909/htt...</td>\n",
              "      <td>This story has been updated. A new law in...</td>\n",
              "    </tr>\n",
              "    <tr>\n",
              "      <th>42570</th>\n",
              "      <td>146032</td>\n",
              "      <td>218082</td>\n",
              "      <td>What happened in Washington state after voters...</td>\n",
              "      <td>Washington Post</td>\n",
              "      <td>Christopher Ingraham</td>\n",
              "      <td>2016-12-29</td>\n",
              "      <td>2016.0</td>\n",
              "      <td>12.0</td>\n",
              "      <td>https://web.archive.org/web/20161231004909/htt...</td>\n",
              "      <td>The nation’s first recreational marijuana...</td>\n",
              "    </tr>\n",
              "  </tbody>\n",
              "</table>\n",
              "</div>"
            ],
            "text/plain": [
              "       Unnamed: 0  ...                                            content\n",
              "42566      146028  ...           Uber driver Keith Avila picked up a p...\n",
              "42567      146029  ...           Crews on Friday continued to search L...\n",
              "42568      146030  ...       When the Obama administration announced a...\n",
              "42569      146031  ...       This story has been updated. A new law in...\n",
              "42570      146032  ...       The nation’s first recreational marijuana...\n",
              "\n",
              "[5 rows x 10 columns]"
            ]
          },
          "metadata": {
            "tags": []
          },
          "execution_count": 8
        }
      ]
    },
    {
      "cell_type": "code",
      "metadata": {
        "id": "8RvVl7lz9j1Z"
      },
      "source": [
        "data['content'] = data['content'].fillna(\"\")\r\n",
        "data['title'] = data['title'].fillna(\"\")\r\n",
        "content = data['content']\r\n",
        "titles = data[\"title\"]"
      ],
      "execution_count": 9,
      "outputs": []
    },
    {
      "cell_type": "code",
      "metadata": {
        "colab": {
          "base_uri": "https://localhost:8080/"
        },
        "id": "2MzgA0R79qZ-",
        "outputId": "b229cb63-16b8-41f6-956b-924334c41430"
      },
      "source": [
        "final_right = data[data['publication'].str.contains(\"Fox\")]\r\n",
        "final_right = final_right[['title','content']]\r\n",
        "final_right.shape"
      ],
      "execution_count": 10,
      "outputs": [
        {
          "output_type": "execute_result",
          "data": {
            "text/plain": [
              "(4354, 2)"
            ]
          },
          "metadata": {
            "tags": []
          },
          "execution_count": 10
        }
      ]
    },
    {
      "cell_type": "code",
      "metadata": {
        "colab": {
          "base_uri": "https://localhost:8080/"
        },
        "id": "cp-xNe2IBKFC",
        "outputId": "cfd1591e-66fd-4901-9fd1-4dd1ef430d43"
      },
      "source": [
        "final_left = data[data['publication'].str.contains(\"CNN\")]\r\n",
        "final_left = final_left[['title','content']]\r\n",
        "final_left.shape"
      ],
      "execution_count": 11,
      "outputs": [
        {
          "output_type": "execute_result",
          "data": {
            "text/plain": [
              "(11488, 2)"
            ]
          },
          "metadata": {
            "tags": []
          },
          "execution_count": 11
        }
      ]
    },
    {
      "cell_type": "code",
      "metadata": {
        "id": "nqlxH6QbATeW"
      },
      "source": [
        "final_right['content'].to_csv(\"rightcontent.txt\",header=None, index=None, sep='\\t', mode='a')\r\n",
        "final_left['content'].to_csv(\"leftcontent.txt\",header=None, index=None, sep='\\t', mode='a')"
      ],
      "execution_count": 14,
      "outputs": []
    },
    {
      "cell_type": "code",
      "metadata": {
        "id": "MCibNVw0AVUH"
      },
      "source": [
        "sess = gpt2.start_tf_sess()\r\n",
        "file_name_1 = \"rightcontent.txt\""
      ],
      "execution_count": 15,
      "outputs": []
    },
    {
      "cell_type": "code",
      "metadata": {
        "colab": {
          "base_uri": "https://localhost:8080/"
        },
        "id": "wvWc-sTFA5kj",
        "outputId": "b4c9c239-b999-4deb-cb1d-58c8ad191fc6"
      },
      "source": [
        "#for right content\r\n",
        "gpt2.finetune(sess,\r\n",
        "              dataset=file_name_1,\r\n",
        "              model_name='124M',\r\n",
        "              steps=1000,\r\n",
        "              restore_from='fresh',\r\n",
        "              run_name='run_right_1',\r\n",
        "              print_every=10,\r\n",
        "              sample_every=200,\r\n",
        "              save_every=500,\r\n",
        "              )"
      ],
      "execution_count": 16,
      "outputs": [
        {
          "output_type": "stream",
          "text": [
            "WARNING:tensorflow:From /usr/local/lib/python3.7/dist-packages/gpt_2_simple/src/sample.py:17: where (from tensorflow.python.ops.array_ops) is deprecated and will be removed in a future version.\n",
            "Instructions for updating:\n",
            "Use tf.where in 2.0, which has the same broadcast rule as np.where\n",
            "Loading checkpoint models/124M/model.ckpt\n",
            "INFO:tensorflow:Restoring parameters from models/124M/model.ckpt\n"
          ],
          "name": "stdout"
        },
        {
          "output_type": "stream",
          "text": [
            "\r  0%|          | 0/1 [00:00<?, ?it/s]"
          ],
          "name": "stderr"
        },
        {
          "output_type": "stream",
          "text": [
            "Loading dataset...\n"
          ],
          "name": "stdout"
        },
        {
          "output_type": "stream",
          "text": [
            "100%|██████████| 1/1 [00:27<00:00, 27.54s/it]\n"
          ],
          "name": "stderr"
        },
        {
          "output_type": "stream",
          "text": [
            "dataset has 6117244 tokens\n",
            "Training...\n",
            "[10 | 28.12] loss=2.88 avg=2.88\n",
            "[20 | 50.07] loss=2.94 avg=2.91\n",
            "[30 | 72.59] loss=2.86 avg=2.89\n",
            "[40 | 95.85] loss=2.91 avg=2.90\n",
            "[50 | 120.19] loss=2.76 avg=2.87\n",
            "[60 | 144.08] loss=2.61 avg=2.82\n",
            "[70 | 167.67] loss=2.74 avg=2.81\n",
            "[80 | 191.56] loss=2.85 avg=2.81\n",
            "[90 | 215.56] loss=2.83 avg=2.82\n",
            "[100 | 239.47] loss=2.67 avg=2.80\n",
            "[110 | 263.38] loss=2.75 avg=2.80\n",
            "[120 | 287.36] loss=2.68 avg=2.79\n",
            "[130 | 311.39] loss=2.83 avg=2.79\n",
            "[140 | 335.42] loss=2.91 avg=2.80\n",
            "[150 | 359.48] loss=2.93 avg=2.81\n",
            "[160 | 383.57] loss=2.52 avg=2.79\n",
            "[170 | 407.59] loss=2.78 avg=2.79\n",
            "[180 | 431.57] loss=2.73 avg=2.78\n",
            "[190 | 455.56] loss=2.73 avg=2.78\n",
            "[200 | 479.51] loss=2.59 avg=2.77\n",
            "======== SAMPLE 1 ========\n",
            " cities or the states through which they live. According to Politico, he has been trying to make it work for Republicans in general:<|endoftext|>This is the official website for the NBA    “””’ games. The NBA NBA Live website features a live game feed with the latest news on both the court and the surrounding environment. The NBA Live platform provides live video updates from both the court and the surrounding environment as well as an interactive live feed. Basketball fans have access to more than 20, 000 live live games and more than 10, 000 NBA games, all available in three different versions. This is the home for millions of NBA game broadcasts, as well as daily news, analysis, interviews and special features. There are three versions of the NBA Live platform: Live Broadcast (live version, preview feed) Live Broadcast Series (Live clip, preview clip) and Video Series (Live clip, preview clip) which offer live coverage and updates on topics such as the current state of the NBA, NBA games and more. See the NBA’s   live broadcast page for more details. Live Broadcast Series (Live clip, preview clip) delivers live player action and live commentary from multiple platforms. The Live Broadcast Series delivers live player action and video analysis from both platforms. See the NBA Live clip page for more details.” Live Broadcast Series (Snapshot, preview clip) delivers live video player action and video analysis from both platforms. See the NBA Live clip page for more details.” Snapshot (Live clip, preview clip) delivers live video player action and video analysis from both platforms. See the NBA Live clip page for more details.” Video Series (Live clip, preview clip) delivers live coverage and updates from the three platforms via clips to view on the app. See the NBA Live clip page for more details. Live Broadcast System (Live clip, preview clip) delivers full line of sight and footage from all three platforms. See the NBA Live clip page for more details.” Video Series (Snapshot, preview clip) delivers full line of sight and video analysis from all three platforms. See the NBA Live clip page for more details.” View All <div id=\"header_1\" class=\"header_1\"> <div id=\"section_2\" class=\"section_2\"> <div id=\"section_3   footer_1\"> <div id=\"section_4\" class=\"section_4\"> <div id=\"section_5\" class=\"section_5\"> <div id=\"section_6\" class=\"section_6\"> </div> <div id=\"section_7\" class=\"section_7\"> </div> <div id=\"section_8   footer_2\"> <div id=\"section_9   footer_2\"> <div id=\"section_10\" class=\"section_10\"> </div> </div> <script> /* The text appears before the link to the page where it will be displayed, but can be changed. For the best of both worlds, all   text must be at least the same size. <a href=\"https:  . twitter. com/search?q=”> <pre> <img id=\"pics\" src=\"https:  . gamedev. com/pics/3,5,11.jpg\" alt=\"\" /> <img id=\"artwork\" src=\"https:  . gamedev. com   ” ” . com/artwork.jpg” ><a href=\"https:  ..  twitter. com/gamedev/ ”> <img id=\"artwork_banner\" style=\"color: rgba(0, 0, 0. 0, 0. 0)\"> <!--[if lv   style=\"background: #e2defb; border: 1px solid #d3d3d3; color: #d2f2f2; text:   #d2f2f2; font: normal,   style: bold; letter: normal; font-size: 12pt; background: url(%%scottings); box: none; background: none; border: none; line: 1px solid #e4d4d4; background: url(%%scottings); background: none; color: rgba(0, 0, 0. 0, 0. 0); cursor: pointer, alt: pointer; box: none; background: none; border: none; line: 1px solid #e4d4d4; background: url(%%scottings); background: none; border: none; line: 1px solid #e4d4d4; background: url(%%scottings); background: none; color: rgba(0, 0, 0. 0, 0. 0); } <link rel=\"stylesheet\" href=\"https:  . gamed\n",
            "\n",
            "[210 | 515.34] loss=2.38 avg=2.75\n",
            "[220 | 539.39] loss=2.49 avg=2.74\n",
            "[230 | 563.52] loss=2.82 avg=2.74\n",
            "[240 | 587.62] loss=2.73 avg=2.74\n",
            "[250 | 611.73] loss=2.72 avg=2.74\n",
            "[260 | 635.87] loss=2.86 avg=2.75\n",
            "[270 | 660.01] loss=2.86 avg=2.75\n",
            "[280 | 684.16] loss=2.57 avg=2.74\n",
            "[290 | 708.31] loss=2.69 avg=2.74\n",
            "[300 | 732.43] loss=2.70 avg=2.74\n",
            "[310 | 756.53] loss=2.75 avg=2.74\n",
            "[320 | 780.65] loss=2.60 avg=2.73\n",
            "[330 | 804.77] loss=2.42 avg=2.72\n",
            "[340 | 828.88] loss=2.54 avg=2.72\n",
            "[350 | 852.98] loss=2.33 avg=2.70\n",
            "[360 | 877.11] loss=2.71 avg=2.70\n",
            "[370 | 901.24] loss=2.39 avg=2.69\n",
            "[380 | 925.33] loss=2.60 avg=2.69\n",
            "[390 | 949.45] loss=2.70 avg=2.69\n",
            "[400 | 973.56] loss=2.51 avg=2.69\n",
            "======== SAMPLE 1 ========\n",
            " a national investigation.” She also called for Congress to repeal and replace the Affordable Care Act. ”I am calling for legislative action to repeal, replace, and replace ObamaCare,” she said, adding, ”The Republicans want repeal.” Sanders’ call came in the aftermath of an election that seemed to show confidence in his supporters.  Clinton had been the focus of Clinton’s campaign, which has relied heavily on social media to keep Clinton connected to the public, but her team has been quick to capitalize on the storm. The Clinton campaign responded with a video saying it was ”not interested in” Clinton’s private email server. The video was retweeted hundreds of times on social media.  Last week, Clinton was seen on a plane bound for Miami, in what seemed an attempt to smooth out her loss in a state that voted overwhelmingly for Republican Donald Trump.  ”This election is not over or even close and we are still in the process of evaluating a number of options that will ensure the continued success of her campaign and, hopefully, the Democrats in doing all of this,” Clinton campaign chairman John Podesta told ABC News earlier this month.  Trump has vowed to release his tax returns before the November ballot, but aides have suggested the party cannot release its own returns.  This week, Clinton was seen holding a rally in New York, but she has been in Wisconsin, Iowa, New Hampshire, South Carolina, South Dakota, West Virginia, and New Jersey.  Clinton is likely to win all of Iowa, Michigan, New York and Pennsylvania.  Trump has been in Arizona this election cycle for the weekend.  It’s unclear what the Democratic candidate, if any, will do in Pennsylvania,  but a New York Times report said that Trump has ”thrilled” about the state.  She even took a selfie with some of her supporters on Saturday, raising a fist in the air as she returned to New York to attend a   rally.   The Democrat candidate said in a letter to her supporters: ”I am so proud to be a part of this campaign that many people across the country are calling for.” That message is echoed in a blistering speech by Bill Clinton on Saturday that went down without a hitch.  The Clinton campaign says that the speech is in the national interest and a Clinton victory would only create another round of voter intimidation that could have a devastating impact on Clinton’s poll numbers.  Clinton was booed at a rally in Philadelphia in response.  After Clinton’s speech, she tweeted out, ”Thank you Bill, I’m sure you’ll vote for Hillary Clinton’s victory tonight.”  In New York City, Trump tweeted that his wife and former first lady were on a ”brief” trip to the state. Trump was not alone.  Democratic pollsters had previously warned a Trump victory would be difficult.  One recent poll put Clinton ahead last week of Trump.  It appeared that the former secretary of state’s performance was not quite on point.  Still, Clinton, who defeated Trump in a New York City contest, took the stage, in a    style, to talk about the challenges of the 2016 election.  ”We still have our work to do,” Clinton said during a Monday night interview with CNN. ”We still have to get our act together. And we gotta get our party together.”  Her campaign said Clinton would speak at a state event.  Trump has made his campaign more aggressive toward supporters of the Republican candidate, and some advisers suggested the billionaire would not shy away from getting nasty with New York voters with a message on the campaign trail.  The latest headlines on the 2016 elections from the biggest name in politics. See Latest Coverage → The latest headlines on the 2016 elections from the biggest name in politics. See Latest Coverage → “For the people of New York, that’s a good thing to bring up as well,” Trump said on NBC’s “Meet the Press. It’s the one thing I need,” he added.   Clinton was on “The Late Show,” and her husband’s  ”Fox and Friends” show gave Trump a warm welcome    appearing alongside Donald Trump  . When she and her husband won the presidency last fall, Trump was booed.  At the time, Clinton had been widely criticized for not making enough of a dent in her support, and she had been praised repeatedly for supporting the GOP Party.     <endoftext>\n",
            "[CONTENT] ”As President, I’ve served as president to protect the interests of our constituents and to provide economic opportunity for American families. That’s why I am taking the oath of office to work to restore America’s House of Representatives and to create jobs throughout\n",
            "\n",
            "[410 | 1008.28] loss=2.68 avg=2.69\n",
            "[420 | 1032.30] loss=2.68 avg=2.69\n",
            "[430 | 1056.37] loss=2.72 avg=2.69\n",
            "[440 | 1080.42] loss=2.53 avg=2.68\n",
            "[450 | 1104.47] loss=2.55 avg=2.68\n",
            "[460 | 1128.58] loss=2.53 avg=2.67\n",
            "[470 | 1152.72] loss=2.64 avg=2.67\n",
            "[480 | 1176.85] loss=2.40 avg=2.67\n",
            "[490 | 1201.00] loss=2.45 avg=2.66\n",
            "[500 | 1225.15] loss=2.79 avg=2.66\n",
            "Saving checkpoint/run_right_1/model-500\n",
            "[510 | 1252.40] loss=2.51 avg=2.66\n",
            "[520 | 1276.60] loss=2.43 avg=2.65\n",
            "[530 | 1300.61] loss=2.42 avg=2.65\n",
            "[540 | 1324.61] loss=2.59 avg=2.65\n",
            "[550 | 1348.71] loss=2.67 avg=2.65\n",
            "[560 | 1372.83] loss=2.57 avg=2.65\n",
            "[570 | 1397.01] loss=2.53 avg=2.64\n",
            "[580 | 1421.14] loss=2.56 avg=2.64\n",
            "[590 | 1445.25] loss=2.57 avg=2.64\n",
            "[600 | 1469.41] loss=2.55 avg=2.64\n",
            "======== SAMPLE 1 ========\n",
            " Mark’s son, Steven, and a cousin who appeared Monday on a police dash cam video of the killings. ”We have a couple of families that were involved in my life,” the unidentified   wrote on a Facebook post. “We are with the family. We will continue to pray for them all,” the unidentified brother, Steven Steven Wilson, wrote. His son, Steven, wrote back on a Facebook post Tuesday and said his family “will not forget my family and I. ” He did not specify if his son would have had any contact with the family by phone or text while he was a local community college student. “We will not forget” those memories, Steven said. A lawyer for the family told the Associated Press that Steven “doesn’t know the whole story” and that they were “horrified and heartbroken. ” He did not specify if they were cooperating. Police told the New York Daily News they were investigating the killing at the hands of a police officer. The Associated Press contributed to this report.    <endoftext>\n",
            "[CONTENT]  Officials with the National Security Agency (NSA) made an apparent public announcement Sunday that the data they collected after the Orlando nightclub tragedy was not in fact part of the search warrant that sparked a deadly series of terror attacks. The latest “Havoc”   which was discovered by the FBI, shows an alleged   plot by an   Muslim man, reportedly from the city of Paris, that included the capture of several gay nightclub patrons as well as the detonation of a bomb. ”It’s not like a ’Havoc’ we’ve never seen before,” the NSA told The Associated Press in an official statement. ”There is no evidence at all that we conducted any other analysis of the metadata on anyone.” The FBI did not confirm or deny reports about the plot against the gay nightclub patrons, but the FBI statement also noted that the terror plots, while potentially connected to the Orlando terror attack, remain in question.  The New York Times reported last week that the FBI, after   analysis of metadata by a security firm dubbed “Heartbleed,” found ”nothing at all” to link the Pulse nightclub shooter to terrorism.  Heartbleed, which specializes in securing encryption keys for computers used by terrorist suspects, has been cited for decades for securing phone records and other data. NSA Director Michael Flynn told “Fox  Friends” on Sunday that no government could ever track the location of a phone. He suggested that may be the reason the agency is not able to fully understand the scope. The latest terror attack by an Islamic extremist is the worst terror attack of the year since 9/11, the Times noted last October, during the aftermath of ISIS’ suicide bombing attack in San Bernardino, California. While a separate ISIS suicide bombing carried out by al Abadi killed 14 and injured dozens in 2013 killed 53, it was the worst terrorist attack on U. S. soil since World War II, the New York Times noted in its story on Tuesday. The Times reported earlier this year that NSA analysts found the metadata on phones used by ISIS sympathisers in Britain and Canada as well as the terrorist group’s online messaging and voice calls used to commit   attacks, as well as metadata indicating what terrorist groups and individuals could be communicating through those devices.  The FBI told FoxNews. com that the metadata could be linked to the recent Las Vegas terror attack. While the investigation could not find links to Orlando, a similar threat occurred in 2014, when another gay nightclub shooter, Micah Xavier Johnson, blew himself up using an encryption key that was used on his phone. The FBI did not find any conclusive evidence linking the Pulse nightclub shooter to Pulse.  A similar plot against Pulse took place in 2012, when more than 100 people were killed there. The FBI did not find evidence that would link Orlando’s Pulse bomb plot to the shooting in the club, but it did confirm that “Heartbleed,” an NSA company known for its encryption equipment, had been used by the terrorist. The latest edition of “Havoc: ”” was released Monday. The FBI’s ‘Havoc’ said the terrorist plot “was unrelated to Pulse, but unrelated to any of the incidents in Pulse. ” Heartbleed is considered a key to secure an encrypted data connection.    <endoftext>\n",
            "[CONTENT]  The latest news in the 2016 presidential race is between Hillary Clinton and Donald Trump. The candidate took the lead in the latest Fox News poll with 34 percent, compared to 33 percent for Trump and 33 percent for the other candidates.  Trump’s lead was larger among men (27 vs. 34 percent) whites (30 vs. 57 percent) and women (37 vs.\n",
            "\n",
            "[610 | 1504.09] loss=2.65 avg=2.64\n",
            "[620 | 1528.11] loss=2.48 avg=2.63\n",
            "[630 | 1552.20] loss=2.48 avg=2.63\n",
            "[640 | 1576.32] loss=2.54 avg=2.63\n",
            "[650 | 1600.49] loss=2.55 avg=2.63\n",
            "[660 | 1624.66] loss=2.53 avg=2.63\n",
            "[670 | 1648.82] loss=2.59 avg=2.63\n",
            "[680 | 1672.96] loss=2.89 avg=2.63\n",
            "[690 | 1697.12] loss=2.48 avg=2.63\n",
            "[700 | 1721.25] loss=2.69 avg=2.63\n",
            "[710 | 1745.29] loss=2.57 avg=2.63\n",
            "[720 | 1769.30] loss=2.60 avg=2.63\n",
            "[730 | 1793.32] loss=2.78 avg=2.63\n",
            "[740 | 1817.36] loss=2.37 avg=2.63\n",
            "[750 | 1841.40] loss=2.35 avg=2.62\n",
            "[760 | 1865.49] loss=2.28 avg=2.61\n",
            "[770 | 1889.61] loss=2.50 avg=2.61\n",
            "[780 | 1913.73] loss=2.50 avg=2.61\n",
            "[790 | 1937.83] loss=2.50 avg=2.61\n",
            "[800 | 1961.88] loss=2.46 avg=2.60\n",
            "======== SAMPLE 1 ========\n",
            " refusal to allow him to appear, the senator says that he still wants to go. “I’m just not a person who’s going to stand up for my wife, my family, or my family‘” Rubio said at a rally in Louisville, Ky. “We’re going to protect our freedoms and the rights of the American people. ” Rubio’s spokesman told reporters Thursday that Rubio “dressed as   for that debate on Fox. ” “He was there, I thought he was representing the party in Cleveland,” spokesman Sean Terrigan also told MSNBC. The two senators were scheduled to appear before the Republican National Convention in Tampa in late June, though their schedules are unclear. The senator’s advisers and senior staff were asked to be in the air to promote Rubio, who is trailing the Florida senator by a slim margin in polls. They are also trying to get a candidate to appear at his convention in Tampa, though they have not been able to get a candidate up and running. On Thursday, Rubio has been holding a   campaign trail event in South Carolina and in Georgia over the past few days, making several stops in Tennessee and North Carolina. In the Georgia rally, Rubio said the senator’s wife, Heidi, “should be   but they’re not. ” He also said he plans to visit Ohio, Nevada and Iowa during the weekend. Rubio is running for the Senate nomination in the 2016 midterms, but the campaigns will not be able to contact a candidate until September. The latest headlines on the 2016 elections from the biggest name in politics. See Latest Coverage → And he’ll not be allowed to answer questions on any   on the campaign website or on the social media page. At a rally in Louisville, Ky. Wednesday, Rubio campaign manager David Kitter said Cruz’s schedule was “getting out of hand. ” “We need to get him on the ballot, because he has not been able to do so since June 7 of last year   which is when we filed for the Republican presidential nomination and he’d been out doing interviews for a couple of weeks,” Kitter said. Cruz has said he is out of touch and he’s not holding that line. Rubio, in his interview with Fox News, reiterated his belief that he’ll win. “I think my support is going to be the strongest in the races. And if [Democrats] are able to keep me and help me in those states, then I’m the kind of candidate who will keep me strong, and who has an extraordinary record of supporting women. ” Rubio has endorsed Democratic presidential front runner Hillary Clinton, as well as former Florida Gov. Jeb Bush, Florida Sen. Marco Rubio and Arkansas Sen. Bob Casey. The Fox News Poll is conducted under the joint direction of Anderson Robbins Research (D) and Shaw  Company Research (R). The poll was conducted April   for 701 likely Republican voters between the ages of   and 55 percent Republican.  The poll has a margin of sampling error of plus or minus three percentage points for all registered Republican voters.    <endoftext>\n",
            "[CONTENT] The   party has been at odds with the   nominee for more than a year. On Monday, the party unveiled a   roster of   candidates, including Florida Sen. Marco Rubio, who is the latest to announce his 2016 presidential hopes, and retired neurosurgeon Ben Carson, who has also backed Trump. It also has taken a hard line on whether Clinton will run   or support      Trump    a move that appears to have hurt his candidacy in the short time it has been on the campaign trail.             <endoftext>\n",
            "[CONTENT] Trump on Friday unveiled a   roster of   candidates that included former Arkansas Gov. Mike Huckabee, former New York Mayor Rudy Giuliani, Texas Sen. Ted Cruz and former Pennsylvania Sen. Rick Santorum. ”He has one of the best crowds you can even in a Trump’s field,” Trump said of Trump’s convention speech from New York’s Madison Square Garden in 1984. The speech, though, did not appear to show Trump making himself clear   …      but Trump made clear that he was being kept in the dark about his potential candidacy. Trump did not appear to answer several key questions for the session during which the convention was taking place in Cleveland but said during the closing remarks that ”what I’m doing is what’s important.” The RNC also released a statement that said Trump was ”shrinking his head for a bit.” Priebus and others have been in the business of trying to get Trump to appear, as they have over the past eight years and\n",
            "\n",
            "[810 | 1996.59] loss=2.43 avg=2.60\n",
            "[820 | 2020.59] loss=2.52 avg=2.60\n",
            "[830 | 2044.61] loss=2.40 avg=2.60\n",
            "[840 | 2068.71] loss=2.38 avg=2.59\n",
            "[850 | 2092.86] loss=2.51 avg=2.59\n",
            "[860 | 2117.02] loss=2.39 avg=2.59\n",
            "[870 | 2141.17] loss=2.20 avg=2.58\n",
            "[880 | 2165.32] loss=2.59 avg=2.58\n",
            "[890 | 2189.41] loss=2.47 avg=2.58\n",
            "[900 | 2213.43] loss=2.47 avg=2.58\n",
            "[910 | 2237.45] loss=2.50 avg=2.58\n",
            "[920 | 2261.48] loss=2.51 avg=2.58\n",
            "[930 | 2285.49] loss=2.41 avg=2.57\n",
            "[940 | 2309.55] loss=2.35 avg=2.57\n",
            "[950 | 2333.62] loss=2.37 avg=2.57\n",
            "[960 | 2357.74] loss=2.25 avg=2.56\n",
            "[970 | 2381.84] loss=2.46 avg=2.56\n",
            "[980 | 2405.98] loss=2.75 avg=2.56\n",
            "[990 | 2430.12] loss=2.40 avg=2.56\n",
            "[1000 | 2454.24] loss=2.33 avg=2.56\n",
            "Saving checkpoint/run_right_1/model-1000\n",
            "WARNING:tensorflow:From /usr/local/lib/python3.7/dist-packages/tensorflow_core/python/training/saver.py:963: remove_checkpoint (from tensorflow.python.training.checkpoint_management) is deprecated and will be removed in a future version.\n",
            "Instructions for updating:\n",
            "Use standard file APIs to delete files with this prefix.\n"
          ],
          "name": "stdout"
        }
      ]
    },
    {
      "cell_type": "code",
      "metadata": {
        "colab": {
          "base_uri": "https://localhost:8080/"
        },
        "id": "6TwDIS7bCVU-",
        "outputId": "9c2728a4-19c4-42f6-aa4e-b450aac4f5b9"
      },
      "source": [
        "gpt2.generate(sess, run_name='run_right_1',\r\n",
        "              length=100,\r\n",
        "              temperature=.7,\r\n",
        "              nsamples=10,\r\n",
        "              batch_size=10,\r\n",
        "              prefix=\"Allowing more immigrants to come into the United States will\",\r\n",
        "              truncate=\"<|endoftext|>\",\r\n",
        "              include_prefix=False\r\n",
        "              )"
      ],
      "execution_count": 18,
      "outputs": [
        {
          "output_type": "stream",
          "text": [
            "Allowing more immigrants to come into the United States will help create jobs, while allowing them to stay here in the hope that they will be able to find work while they are in the U. S.’s free youth labor market. ”                                                            \n",
            "====================\n",
            "Allowing more immigrants to come into the United States will help us all.   But instead of helping the countless Americans who have been victims of crime, let me make clear: we will be victimized by one more criminal generation.                                                                 \n",
            "====================\n",
            "Allowing more immigrants to come into the United States will help us all,” he said. ”We all have a responsibility to help them, but it will only benefit us if they assimilate into our country.” Trump also said he would not accept more Muslim immigrants. ”When I say, ’I am going to deport all Muslims,’ I mean, that’s not going to happen,” Trump said, as he addressed the crowd at the University of Phoenix. ”I want to be very\n",
            "====================\n",
            "Allowing more immigrants to come into the United States will hurt our economy and job creators. These are the people that we want to focus on right now. And that's why I want to work with you,” he said. The group hopes to bring together the evangelical leaders from the state and nation to round up the signatures needed to get on the first ballot. The U. S. House of Representatives is currently sitting in a dead heat    with two Republicans battling    Alaska Rep. Steve King. King won the seat earlier this\n",
            "====================\n",
            "Allowing more immigrants to come into the United States will be a slap in the face to those who have been here for decades. And it will be a slap in the face to those who have come here repeatedly.” In a statement issued after Prime Minister Benjamin Netanyahu’s announcement, he said, ”This is all about politics and economics.” Netanyahu said in a   statement that he will ”continue to reiterate my commitment to ensuring that the   settlements are completely built.” The West Bank settlement, which is\n",
            "====================\n",
            "Allowing more immigrants to come into the United States will make America great again.” On the campaign trail, Trump said he’s ”honored” that millions of immigrants are coming in the country illegally. But he also said the ”bad people” are coming in ”because they didn’t come here for political reasons.” Trump’s remarks came a few days after he had announced that he would not accept the millions of illegal immigrants who now make up his party’s majority in the\n",
            "====================\n",
            "Allowing more immigrants to come into the United States will help stop terrorism,” he said. ”The fact that we have a president at this critical moment in his presidency has been in the national interest of our country.”              <endoftext>\n",
            "[CONTENT]     Donald Trump is poised to become the   of the Republican Party.  Now he has a significant lead in the state of New York, which holds its primary on April 19.\n",
            "====================\n",
            "Allowing more immigrants to come into the United States will strengthen our economy, create thousands of jobs, and help make America great again. ”                                                                                  \n",
            "====================\n",
            "Allowing more immigrants to come into the United States will increase U. S. economic activity, and it will also help protect the U. S. economy from a significant spike in terrorism attacks.” Clinton, during her speech, also said, ”It’s time to change the rules of the game.”    <endoftext>\n",
            "[CONTENT]     The Supreme Court on Tuesday sided with President Obama in its decision to allow   immigrants into the United States.  The appeals court,\n",
            "====================\n",
            "Allowing more immigrants to come into the United States will increase economic growth,” said Sen. Marco Rubio,  . who is running for the Republican nomination. ”We need to keep the pressure on China to tighten its grip on our free market.” Rubio also warned that Trump is ”dangerously close” to a trade war with China. ”Donald Trump has said he wants to ”load” millions of jobs on the American auto industry,” he said in a statement. China is also urging the U\n",
            "====================\n"
          ],
          "name": "stdout"
        }
      ]
    },
    {
      "cell_type": "code",
      "metadata": {
        "id": "L_pz1AYKfiWe"
      },
      "source": [
        "gpt2.copy_checkpoint_to_gdrive(run_name='run_right_1')"
      ],
      "execution_count": 20,
      "outputs": []
    },
    {
      "cell_type": "code",
      "metadata": {
        "id": "kySCH5lBfxdE"
      },
      "source": [
        "sess = gpt2.start_tf_sess()\r\n",
        "file_name_2 = \"leftcontent.txt\""
      ],
      "execution_count": null,
      "outputs": []
    },
    {
      "cell_type": "code",
      "metadata": {
        "colab": {
          "base_uri": "https://localhost:8080/",
          "height": 614
        },
        "id": "XCm8x94PCApP",
        "outputId": "57dde72e-58cb-4623-da7f-7298debc4174"
      },
      "source": [
        "#for left content\r\n",
        "gpt2.finetune(sess,\r\n",
        "              dataset=file_name_2,\r\n",
        "              model_name='124M',\r\n",
        "              steps=1000,\r\n",
        "              restore_from='fresh',\r\n",
        "              run_name='run_left_1',\r\n",
        "              print_every=10,\r\n",
        "              sample_every=200,\r\n",
        "              save_every=500,\r\n",
        "              )"
      ],
      "execution_count": 19,
      "outputs": [
        {
          "output_type": "error",
          "ename": "ValueError",
          "evalue": "ignored",
          "traceback": [
            "\u001b[0;31m---------------------------------------------------------------------------\u001b[0m",
            "\u001b[0;31mValueError\u001b[0m                                Traceback (most recent call last)",
            "\u001b[0;32m<ipython-input-19-287e9fb977ce>\u001b[0m in \u001b[0;36m<module>\u001b[0;34m()\u001b[0m\n\u001b[1;32m      8\u001b[0m               \u001b[0mprint_every\u001b[0m\u001b[0;34m=\u001b[0m\u001b[0;36m10\u001b[0m\u001b[0;34m,\u001b[0m\u001b[0;34m\u001b[0m\u001b[0;34m\u001b[0m\u001b[0m\n\u001b[1;32m      9\u001b[0m               \u001b[0msample_every\u001b[0m\u001b[0;34m=\u001b[0m\u001b[0;36m200\u001b[0m\u001b[0;34m,\u001b[0m\u001b[0;34m\u001b[0m\u001b[0;34m\u001b[0m\u001b[0m\n\u001b[0;32m---> 10\u001b[0;31m               \u001b[0msave_every\u001b[0m\u001b[0;34m=\u001b[0m\u001b[0;36m500\u001b[0m\u001b[0;34m,\u001b[0m\u001b[0;34m\u001b[0m\u001b[0;34m\u001b[0m\u001b[0m\n\u001b[0m\u001b[1;32m     11\u001b[0m               )\n",
            "\u001b[0;32m/usr/local/lib/python3.7/dist-packages/gpt_2_simple/gpt_2.py\u001b[0m in \u001b[0;36mfinetune\u001b[0;34m(sess, dataset, steps, model_name, model_dir, combine, batch_size, learning_rate, accumulate_gradients, restore_from, run_name, checkpoint_dir, sample_every, sample_length, sample_num, multi_gpu, save_every, print_every, max_checkpoints, use_memory_saving_gradients, only_train_transformer_layers, optimizer, overwrite)\u001b[0m\n\u001b[1;32m    196\u001b[0m         \u001b[0mgpus\u001b[0m \u001b[0;34m=\u001b[0m \u001b[0mget_available_gpus\u001b[0m\u001b[0;34m(\u001b[0m\u001b[0;34m)\u001b[0m\u001b[0;34m\u001b[0m\u001b[0;34m\u001b[0m\u001b[0m\n\u001b[1;32m    197\u001b[0m \u001b[0;34m\u001b[0m\u001b[0m\n\u001b[0;32m--> 198\u001b[0;31m     \u001b[0moutput\u001b[0m \u001b[0;34m=\u001b[0m \u001b[0mmodel\u001b[0m\u001b[0;34m.\u001b[0m\u001b[0mmodel\u001b[0m\u001b[0;34m(\u001b[0m\u001b[0mhparams\u001b[0m\u001b[0;34m=\u001b[0m\u001b[0mhparams\u001b[0m\u001b[0;34m,\u001b[0m \u001b[0mX\u001b[0m\u001b[0;34m=\u001b[0m\u001b[0mcontext\u001b[0m\u001b[0;34m,\u001b[0m \u001b[0mgpus\u001b[0m\u001b[0;34m=\u001b[0m\u001b[0mgpus\u001b[0m\u001b[0;34m)\u001b[0m\u001b[0;34m\u001b[0m\u001b[0;34m\u001b[0m\u001b[0m\n\u001b[0m\u001b[1;32m    199\u001b[0m     loss = tf.reduce_mean(\n\u001b[1;32m    200\u001b[0m         input_tensor=tf.nn.sparse_softmax_cross_entropy_with_logits(\n",
            "\u001b[0;32m/usr/local/lib/python3.7/dist-packages/gpt_2_simple/src/model.py\u001b[0m in \u001b[0;36mmodel\u001b[0;34m(hparams, X, past, scope, gpus, reuse)\u001b[0m\n\u001b[1;32m    181\u001b[0m \u001b[0;34m\u001b[0m\u001b[0m\n\u001b[1;32m    182\u001b[0m         wpe = tf.compat.v1.get_variable('wpe', [hparams.n_ctx, hparams.n_embd],\n\u001b[0;32m--> 183\u001b[0;31m                              initializer=tf.compat.v1.random_normal_initializer(stddev=0.01))\n\u001b[0m\u001b[1;32m    184\u001b[0m         wte = tf.compat.v1.get_variable('wte', [hparams.n_vocab, hparams.n_embd],\n\u001b[1;32m    185\u001b[0m                              initializer=tf.compat.v1.random_normal_initializer(stddev=0.02))\n",
            "\u001b[0;32m/usr/local/lib/python3.7/dist-packages/tensorflow_core/python/ops/variable_scope.py\u001b[0m in \u001b[0;36mget_variable\u001b[0;34m(name, shape, dtype, initializer, regularizer, trainable, collections, caching_device, partitioner, validate_shape, use_resource, custom_getter, constraint, synchronization, aggregation)\u001b[0m\n\u001b[1;32m   1498\u001b[0m       \u001b[0mconstraint\u001b[0m\u001b[0;34m=\u001b[0m\u001b[0mconstraint\u001b[0m\u001b[0;34m,\u001b[0m\u001b[0;34m\u001b[0m\u001b[0;34m\u001b[0m\u001b[0m\n\u001b[1;32m   1499\u001b[0m       \u001b[0msynchronization\u001b[0m\u001b[0;34m=\u001b[0m\u001b[0msynchronization\u001b[0m\u001b[0;34m,\u001b[0m\u001b[0;34m\u001b[0m\u001b[0;34m\u001b[0m\u001b[0m\n\u001b[0;32m-> 1500\u001b[0;31m       aggregation=aggregation)\n\u001b[0m\u001b[1;32m   1501\u001b[0m \u001b[0;34m\u001b[0m\u001b[0m\n\u001b[1;32m   1502\u001b[0m \u001b[0;34m\u001b[0m\u001b[0m\n",
            "\u001b[0;32m/usr/local/lib/python3.7/dist-packages/tensorflow_core/python/ops/variable_scope.py\u001b[0m in \u001b[0;36mget_variable\u001b[0;34m(self, var_store, name, shape, dtype, initializer, regularizer, reuse, trainable, collections, caching_device, partitioner, validate_shape, use_resource, custom_getter, constraint, synchronization, aggregation)\u001b[0m\n\u001b[1;32m   1241\u001b[0m           \u001b[0mconstraint\u001b[0m\u001b[0;34m=\u001b[0m\u001b[0mconstraint\u001b[0m\u001b[0;34m,\u001b[0m\u001b[0;34m\u001b[0m\u001b[0;34m\u001b[0m\u001b[0m\n\u001b[1;32m   1242\u001b[0m           \u001b[0msynchronization\u001b[0m\u001b[0;34m=\u001b[0m\u001b[0msynchronization\u001b[0m\u001b[0;34m,\u001b[0m\u001b[0;34m\u001b[0m\u001b[0;34m\u001b[0m\u001b[0m\n\u001b[0;32m-> 1243\u001b[0;31m           aggregation=aggregation)\n\u001b[0m\u001b[1;32m   1244\u001b[0m \u001b[0;34m\u001b[0m\u001b[0m\n\u001b[1;32m   1245\u001b[0m   def _get_partitioned_variable(self,\n",
            "\u001b[0;32m/usr/local/lib/python3.7/dist-packages/tensorflow_core/python/ops/variable_scope.py\u001b[0m in \u001b[0;36mget_variable\u001b[0;34m(self, name, shape, dtype, initializer, regularizer, reuse, trainable, collections, caching_device, partitioner, validate_shape, use_resource, custom_getter, constraint, synchronization, aggregation)\u001b[0m\n\u001b[1;32m    565\u001b[0m           \u001b[0mconstraint\u001b[0m\u001b[0;34m=\u001b[0m\u001b[0mconstraint\u001b[0m\u001b[0;34m,\u001b[0m\u001b[0;34m\u001b[0m\u001b[0;34m\u001b[0m\u001b[0m\n\u001b[1;32m    566\u001b[0m           \u001b[0msynchronization\u001b[0m\u001b[0;34m=\u001b[0m\u001b[0msynchronization\u001b[0m\u001b[0;34m,\u001b[0m\u001b[0;34m\u001b[0m\u001b[0;34m\u001b[0m\u001b[0m\n\u001b[0;32m--> 567\u001b[0;31m           aggregation=aggregation)\n\u001b[0m\u001b[1;32m    568\u001b[0m \u001b[0;34m\u001b[0m\u001b[0m\n\u001b[1;32m    569\u001b[0m   def _get_partitioned_variable(self,\n",
            "\u001b[0;32m/usr/local/lib/python3.7/dist-packages/tensorflow_core/python/ops/variable_scope.py\u001b[0m in \u001b[0;36m_true_getter\u001b[0;34m(name, shape, dtype, initializer, regularizer, reuse, trainable, collections, caching_device, partitioner, validate_shape, use_resource, constraint, synchronization, aggregation)\u001b[0m\n\u001b[1;32m    517\u001b[0m           \u001b[0mconstraint\u001b[0m\u001b[0;34m=\u001b[0m\u001b[0mconstraint\u001b[0m\u001b[0;34m,\u001b[0m\u001b[0;34m\u001b[0m\u001b[0;34m\u001b[0m\u001b[0m\n\u001b[1;32m    518\u001b[0m           \u001b[0msynchronization\u001b[0m\u001b[0;34m=\u001b[0m\u001b[0msynchronization\u001b[0m\u001b[0;34m,\u001b[0m\u001b[0;34m\u001b[0m\u001b[0;34m\u001b[0m\u001b[0m\n\u001b[0;32m--> 519\u001b[0;31m           aggregation=aggregation)\n\u001b[0m\u001b[1;32m    520\u001b[0m \u001b[0;34m\u001b[0m\u001b[0m\n\u001b[1;32m    521\u001b[0m     synchronization, aggregation, trainable = (\n",
            "\u001b[0;32m/usr/local/lib/python3.7/dist-packages/tensorflow_core/python/ops/variable_scope.py\u001b[0m in \u001b[0;36m_get_single_variable\u001b[0;34m(self, name, shape, dtype, initializer, regularizer, partition_info, reuse, trainable, collections, caching_device, validate_shape, use_resource, constraint, synchronization, aggregation)\u001b[0m\n\u001b[1;32m    866\u001b[0m         \u001b[0mtb\u001b[0m \u001b[0;34m=\u001b[0m \u001b[0;34m[\u001b[0m\u001b[0mx\u001b[0m \u001b[0;32mfor\u001b[0m \u001b[0mx\u001b[0m \u001b[0;32min\u001b[0m \u001b[0mtb\u001b[0m \u001b[0;32mif\u001b[0m \u001b[0;34m\"tensorflow/python\"\u001b[0m \u001b[0;32mnot\u001b[0m \u001b[0;32min\u001b[0m \u001b[0mx\u001b[0m\u001b[0;34m[\u001b[0m\u001b[0;36m0\u001b[0m\u001b[0;34m]\u001b[0m\u001b[0;34m]\u001b[0m\u001b[0;34m[\u001b[0m\u001b[0;34m:\u001b[0m\u001b[0;36m5\u001b[0m\u001b[0;34m]\u001b[0m\u001b[0;34m\u001b[0m\u001b[0;34m\u001b[0m\u001b[0m\n\u001b[1;32m    867\u001b[0m         raise ValueError(\"%s Originally defined at:\\n\\n%s\" %\n\u001b[0;32m--> 868\u001b[0;31m                          (err_msg, \"\".join(traceback.format_list(tb))))\n\u001b[0m\u001b[1;32m    869\u001b[0m       \u001b[0mfound_var\u001b[0m \u001b[0;34m=\u001b[0m \u001b[0mself\u001b[0m\u001b[0;34m.\u001b[0m\u001b[0m_vars\u001b[0m\u001b[0;34m[\u001b[0m\u001b[0mname\u001b[0m\u001b[0;34m]\u001b[0m\u001b[0;34m\u001b[0m\u001b[0;34m\u001b[0m\u001b[0m\n\u001b[1;32m    870\u001b[0m       \u001b[0;32mif\u001b[0m \u001b[0;32mnot\u001b[0m \u001b[0mshape\u001b[0m\u001b[0;34m.\u001b[0m\u001b[0mis_compatible_with\u001b[0m\u001b[0;34m(\u001b[0m\u001b[0mfound_var\u001b[0m\u001b[0;34m.\u001b[0m\u001b[0mget_shape\u001b[0m\u001b[0;34m(\u001b[0m\u001b[0;34m)\u001b[0m\u001b[0;34m)\u001b[0m\u001b[0;34m:\u001b[0m\u001b[0;34m\u001b[0m\u001b[0;34m\u001b[0m\u001b[0m\n",
            "\u001b[0;31mValueError\u001b[0m: Variable model/wpe already exists, disallowed. Did you mean to set reuse=True or reuse=tf.AUTO_REUSE in VarScope? Originally defined at:\n\n  File \"/usr/local/lib/python3.7/dist-packages/tensorflow_core/python/framework/ops.py\", line 1748, in __init__\n    self._traceback = tf_stack.extract_stack()\n  File \"/usr/local/lib/python3.7/dist-packages/tensorflow_core/python/framework/ops.py\", line 3426, in _create_op_internal\n    op_def=op_def)\n  File \"/usr/local/lib/python3.7/dist-packages/tensorflow_core/python/framework/ops.py\", line 3357, in create_op\n    attrs, op_def, compute_device)\n  File \"/usr/local/lib/python3.7/dist-packages/tensorflow_core/python/util/deprecation.py\", line 507, in new_func\n    return func(*args, **kwargs)\n  File \"/usr/local/lib/python3.7/dist-packages/tensorflow_core/python/framework/op_def_library.py\", line 794, in _apply_op_helper\n    op_def=op_def)\n"
          ]
        }
      ]
    },
    {
      "cell_type": "code",
      "metadata": {
        "id": "RIZpaVCUD2vV"
      },
      "source": [
        "gpt2.generate(sess, run_name='run_left_1',\r\n",
        "              length=100,\r\n",
        "              temperature=.7,\r\n",
        "              nsamples=10,\r\n",
        "              batch_size=10,\r\n",
        "              prefix=\"Allowing more immigrants to come into the United States will\",\r\n",
        "              truncate=\"<|endoftext|>\",\r\n",
        "              include_prefix=True\r\n",
        "              )"
      ],
      "execution_count": null,
      "outputs": []
    }
  ]
}