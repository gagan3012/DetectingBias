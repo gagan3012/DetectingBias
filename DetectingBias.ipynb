{
  "nbformat": 4,
  "nbformat_minor": 0,
  "metadata": {
    "colab": {
      "name": "DetectingBias.ipynb",
      "provenance": [],
      "authorship_tag": "ABX9TyMXyIU1RUNPiyTccCVMDoNO",
      "include_colab_link": true
    },
    "kernelspec": {
      "name": "python3",
      "display_name": "Python 3"
    },
    "accelerator": "GPU"
  },
  "cells": [
    {
      "cell_type": "markdown",
      "metadata": {
        "id": "view-in-github",
        "colab_type": "text"
      },
      "source": [
        "<a href=\"https://colab.research.google.com/github/gagan3012/DetectingBias/blob/master/DetectingBias.ipynb\" target=\"_parent\"><img src=\"https://colab.research.google.com/assets/colab-badge.svg\" alt=\"Open In Colab\"/></a>"
      ]
    },
    {
      "cell_type": "code",
      "metadata": {
        "colab": {
          "base_uri": "https://localhost:8080/"
        },
        "id": "g7VGGmqX29Rr",
        "outputId": "089cdc14-ae26-4b30-b4e7-78c23eca82ec"
      },
      "source": [
        "gpu_info = !nvidia-smi\r\n",
        "gpu_info = '\\n'.join(gpu_info)\r\n",
        "if gpu_info.find('failed') >= 0:\r\n",
        "  print('Select the Runtime → \"Change runtime type\" menu to enable a GPU accelerator, ')\r\n",
        "  print('and then re-execute this cell.')\r\n",
        "else:\r\n",
        "  print(gpu_info)"
      ],
      "execution_count": null,
      "outputs": [
        {
          "output_type": "stream",
          "text": [
            "Fri Feb 26 19:03:34 2021       \n",
            "+-----------------------------------------------------------------------------+\n",
            "| NVIDIA-SMI 460.39       Driver Version: 460.32.03    CUDA Version: 11.2     |\n",
            "|-------------------------------+----------------------+----------------------+\n",
            "| GPU  Name        Persistence-M| Bus-Id        Disp.A | Volatile Uncorr. ECC |\n",
            "| Fan  Temp  Perf  Pwr:Usage/Cap|         Memory-Usage | GPU-Util  Compute M. |\n",
            "|                               |                      |               MIG M. |\n",
            "|===============================+======================+======================|\n",
            "|   0  Tesla T4            Off  | 00000000:00:04.0 Off |                    0 |\n",
            "| N/A   46C    P8    10W /  70W |      0MiB / 15109MiB |      0%      Default |\n",
            "|                               |                      |                  N/A |\n",
            "+-------------------------------+----------------------+----------------------+\n",
            "                                                                               \n",
            "+-----------------------------------------------------------------------------+\n",
            "| Processes:                                                                  |\n",
            "|  GPU   GI   CI        PID   Type   Process name                  GPU Memory |\n",
            "|        ID   ID                                                   Usage      |\n",
            "|=============================================================================|\n",
            "|  No running processes found                                                 |\n",
            "+-----------------------------------------------------------------------------+\n"
          ],
          "name": "stdout"
        }
      ]
    },
    {
      "cell_type": "code",
      "metadata": {
        "id": "6ZxFWUgQ9Vas"
      },
      "source": [
        "!mkdir ~/.kaggle\r\n",
        "!echo '{\"username\":\"gagan2000\",\"key\":\"73e5d9db85677b98fe016b25873727ec\"}' > ~/.kaggle/kaggle.json\r\n",
        "!chmod 600 ~/.kaggle/kaggle.json"
      ],
      "execution_count": null,
      "outputs": []
    },
    {
      "cell_type": "code",
      "metadata": {
        "id": "penhvPqC5_te"
      },
      "source": [
        "!pip install -U -q kaggle"
      ],
      "execution_count": null,
      "outputs": []
    },
    {
      "cell_type": "code",
      "metadata": {
        "colab": {
          "base_uri": "https://localhost:8080/"
        },
        "id": "szdqetp788Z5",
        "outputId": "2e712939-4370-42b6-ffe6-d9aa5b60edc1"
      },
      "source": [
        "!kaggle datasets download -d snapcrack/all-the-news -p /content"
      ],
      "execution_count": null,
      "outputs": [
        {
          "output_type": "stream",
          "text": [
            "Downloading all-the-news.zip to /content\n",
            " 94% 229M/244M [00:01<00:00, 155MB/s]\n",
            "100% 244M/244M [00:01<00:00, 161MB/s]\n"
          ],
          "name": "stdout"
        }
      ]
    },
    {
      "cell_type": "code",
      "metadata": {
        "colab": {
          "base_uri": "https://localhost:8080/"
        },
        "id": "nE-wqYam9GDm",
        "outputId": "326e9f51-c1d6-4988-f3f8-51c4e3317704"
      },
      "source": [
        "!unzip /content/all-the-news.zip -d /content/"
      ],
      "execution_count": null,
      "outputs": [
        {
          "output_type": "stream",
          "text": [
            "Archive:  /content/all-the-news.zip\n",
            "  inflating: /content/articles1.csv  \n",
            "  inflating: /content/articles2.csv  \n",
            "  inflating: /content/articles3.csv  \n"
          ],
          "name": "stdout"
        }
      ]
    },
    {
      "cell_type": "code",
      "metadata": {
        "colab": {
          "base_uri": "https://localhost:8080/"
        },
        "id": "lG2RqhMO3lVD",
        "outputId": "946afa6a-b47c-4d8b-adf8-ec6e22677050"
      },
      "source": [
        "!pip install tensorflow==1.15 #CPU\r\n",
        "!pip install tensorflow-gpu==1.15  # GPU\r\n",
        "!pip install -q gpt-2-simple\r\n",
        "import gpt_2_simple as gpt2\r\n",
        "from datetime import datetime\r\n",
        "import json\r\n",
        "import numpy as np\r\n",
        "import pandas as pd\r\n",
        "import matplotlib.pyplot as plt"
      ],
      "execution_count": null,
      "outputs": [
        {
          "output_type": "stream",
          "text": [
            "Collecting tensorflow==1.15\n",
            "\u001b[?25l  Downloading https://files.pythonhosted.org/packages/92/2b/e3af15221da9ff323521565fa3324b0d7c7c5b1d7a8ca66984c8d59cb0ce/tensorflow-1.15.0-cp37-cp37m-manylinux2010_x86_64.whl (412.3MB)\n",
            "\u001b[K     |████████████████████████████████| 412.3MB 42kB/s \n",
            "\u001b[?25hRequirement already satisfied: protobuf>=3.6.1 in /usr/local/lib/python3.7/dist-packages (from tensorflow==1.15) (3.12.4)\n",
            "Requirement already satisfied: astor>=0.6.0 in /usr/local/lib/python3.7/dist-packages (from tensorflow==1.15) (0.8.1)\n",
            "Requirement already satisfied: wheel>=0.26 in /usr/local/lib/python3.7/dist-packages (from tensorflow==1.15) (0.36.2)\n",
            "Requirement already satisfied: opt-einsum>=2.3.2 in /usr/local/lib/python3.7/dist-packages (from tensorflow==1.15) (3.3.0)\n",
            "Requirement already satisfied: keras-preprocessing>=1.0.5 in /usr/local/lib/python3.7/dist-packages (from tensorflow==1.15) (1.1.2)\n",
            "Collecting gast==0.2.2\n",
            "  Downloading https://files.pythonhosted.org/packages/4e/35/11749bf99b2d4e3cceb4d55ca22590b0d7c2c62b9de38ac4a4a7f4687421/gast-0.2.2.tar.gz\n",
            "Collecting keras-applications>=1.0.8\n",
            "\u001b[?25l  Downloading https://files.pythonhosted.org/packages/71/e3/19762fdfc62877ae9102edf6342d71b28fbfd9dea3d2f96a882ce099b03f/Keras_Applications-1.0.8-py3-none-any.whl (50kB)\n",
            "\u001b[K     |████████████████████████████████| 51kB 8.2MB/s \n",
            "\u001b[?25hCollecting tensorflow-estimator==1.15.1\n",
            "\u001b[?25l  Downloading https://files.pythonhosted.org/packages/de/62/2ee9cd74c9fa2fa450877847ba560b260f5d0fb70ee0595203082dafcc9d/tensorflow_estimator-1.15.1-py2.py3-none-any.whl (503kB)\n",
            "\u001b[K     |████████████████████████████████| 512kB 47.5MB/s \n",
            "\u001b[?25hRequirement already satisfied: numpy<2.0,>=1.16.0 in /usr/local/lib/python3.7/dist-packages (from tensorflow==1.15) (1.19.5)\n",
            "Collecting tensorboard<1.16.0,>=1.15.0\n",
            "\u001b[?25l  Downloading https://files.pythonhosted.org/packages/1e/e9/d3d747a97f7188f48aa5eda486907f3b345cd409f0a0850468ba867db246/tensorboard-1.15.0-py3-none-any.whl (3.8MB)\n",
            "\u001b[K     |████████████████████████████████| 3.8MB 47.2MB/s \n",
            "\u001b[?25hRequirement already satisfied: absl-py>=0.7.0 in /usr/local/lib/python3.7/dist-packages (from tensorflow==1.15) (0.10.0)\n",
            "Requirement already satisfied: termcolor>=1.1.0 in /usr/local/lib/python3.7/dist-packages (from tensorflow==1.15) (1.1.0)\n",
            "Requirement already satisfied: google-pasta>=0.1.6 in /usr/local/lib/python3.7/dist-packages (from tensorflow==1.15) (0.2.0)\n",
            "Requirement already satisfied: wrapt>=1.11.1 in /usr/local/lib/python3.7/dist-packages (from tensorflow==1.15) (1.12.1)\n",
            "Requirement already satisfied: six>=1.10.0 in /usr/local/lib/python3.7/dist-packages (from tensorflow==1.15) (1.15.0)\n",
            "Requirement already satisfied: grpcio>=1.8.6 in /usr/local/lib/python3.7/dist-packages (from tensorflow==1.15) (1.32.0)\n",
            "Requirement already satisfied: setuptools in /usr/local/lib/python3.7/dist-packages (from protobuf>=3.6.1->tensorflow==1.15) (53.0.0)\n",
            "Requirement already satisfied: h5py in /usr/local/lib/python3.7/dist-packages (from keras-applications>=1.0.8->tensorflow==1.15) (2.10.0)\n",
            "Requirement already satisfied: werkzeug>=0.11.15 in /usr/local/lib/python3.7/dist-packages (from tensorboard<1.16.0,>=1.15.0->tensorflow==1.15) (1.0.1)\n",
            "Requirement already satisfied: markdown>=2.6.8 in /usr/local/lib/python3.7/dist-packages (from tensorboard<1.16.0,>=1.15.0->tensorflow==1.15) (3.3.4)\n",
            "Requirement already satisfied: importlib-metadata; python_version < \"3.8\" in /usr/local/lib/python3.7/dist-packages (from markdown>=2.6.8->tensorboard<1.16.0,>=1.15.0->tensorflow==1.15) (3.7.0)\n",
            "Requirement already satisfied: zipp>=0.5 in /usr/local/lib/python3.7/dist-packages (from importlib-metadata; python_version < \"3.8\"->markdown>=2.6.8->tensorboard<1.16.0,>=1.15.0->tensorflow==1.15) (3.4.0)\n",
            "Requirement already satisfied: typing-extensions>=3.6.4; python_version < \"3.8\" in /usr/local/lib/python3.7/dist-packages (from importlib-metadata; python_version < \"3.8\"->markdown>=2.6.8->tensorboard<1.16.0,>=1.15.0->tensorflow==1.15) (3.7.4.3)\n",
            "Building wheels for collected packages: gast\n",
            "  Building wheel for gast (setup.py) ... \u001b[?25l\u001b[?25hdone\n",
            "  Created wheel for gast: filename=gast-0.2.2-cp37-none-any.whl size=7540 sha256=e42e39a4c31d34d67c046827416cea0a281718bf83fadb8b6ee64f50261922f6\n",
            "  Stored in directory: /root/.cache/pip/wheels/5c/2e/7e/a1d4d4fcebe6c381f378ce7743a3ced3699feb89bcfbdadadd\n",
            "Successfully built gast\n",
            "\u001b[31mERROR: tensorflow-probability 0.12.1 has requirement gast>=0.3.2, but you'll have gast 0.2.2 which is incompatible.\u001b[0m\n",
            "Installing collected packages: gast, keras-applications, tensorflow-estimator, tensorboard, tensorflow\n",
            "  Found existing installation: gast 0.3.3\n",
            "    Uninstalling gast-0.3.3:\n",
            "      Successfully uninstalled gast-0.3.3\n",
            "  Found existing installation: tensorflow-estimator 2.4.0\n",
            "    Uninstalling tensorflow-estimator-2.4.0:\n",
            "      Successfully uninstalled tensorflow-estimator-2.4.0\n",
            "  Found existing installation: tensorboard 2.4.1\n",
            "    Uninstalling tensorboard-2.4.1:\n",
            "      Successfully uninstalled tensorboard-2.4.1\n",
            "  Found existing installation: tensorflow 2.4.1\n",
            "    Uninstalling tensorflow-2.4.1:\n",
            "      Successfully uninstalled tensorflow-2.4.1\n",
            "Successfully installed gast-0.2.2 keras-applications-1.0.8 tensorboard-1.15.0 tensorflow-1.15.0 tensorflow-estimator-1.15.1\n",
            "Collecting tensorflow-gpu==1.15\n",
            "\u001b[?25l  Downloading https://files.pythonhosted.org/packages/bc/72/d06017379ad4760dc58781c765376ce4ba5dcf3c08d37032eeefbccf1c51/tensorflow_gpu-1.15.0-cp37-cp37m-manylinux2010_x86_64.whl (411.5MB)\n",
            "\u001b[K     |████████████████████████████████| 411.5MB 39kB/s \n",
            "\u001b[?25hRequirement already satisfied: keras-preprocessing>=1.0.5 in /usr/local/lib/python3.7/dist-packages (from tensorflow-gpu==1.15) (1.1.2)\n",
            "Requirement already satisfied: grpcio>=1.8.6 in /usr/local/lib/python3.7/dist-packages (from tensorflow-gpu==1.15) (1.32.0)\n",
            "Requirement already satisfied: gast==0.2.2 in /usr/local/lib/python3.7/dist-packages (from tensorflow-gpu==1.15) (0.2.2)\n",
            "Requirement already satisfied: six>=1.10.0 in /usr/local/lib/python3.7/dist-packages (from tensorflow-gpu==1.15) (1.15.0)\n",
            "Requirement already satisfied: tensorboard<1.16.0,>=1.15.0 in /usr/local/lib/python3.7/dist-packages (from tensorflow-gpu==1.15) (1.15.0)\n",
            "Requirement already satisfied: astor>=0.6.0 in /usr/local/lib/python3.7/dist-packages (from tensorflow-gpu==1.15) (0.8.1)\n",
            "Requirement already satisfied: wrapt>=1.11.1 in /usr/local/lib/python3.7/dist-packages (from tensorflow-gpu==1.15) (1.12.1)\n",
            "Requirement already satisfied: keras-applications>=1.0.8 in /usr/local/lib/python3.7/dist-packages (from tensorflow-gpu==1.15) (1.0.8)\n",
            "Requirement already satisfied: wheel>=0.26 in /usr/local/lib/python3.7/dist-packages (from tensorflow-gpu==1.15) (0.36.2)\n",
            "Requirement already satisfied: google-pasta>=0.1.6 in /usr/local/lib/python3.7/dist-packages (from tensorflow-gpu==1.15) (0.2.0)\n",
            "Requirement already satisfied: numpy<2.0,>=1.16.0 in /usr/local/lib/python3.7/dist-packages (from tensorflow-gpu==1.15) (1.19.5)\n",
            "Requirement already satisfied: protobuf>=3.6.1 in /usr/local/lib/python3.7/dist-packages (from tensorflow-gpu==1.15) (3.12.4)\n",
            "Requirement already satisfied: absl-py>=0.7.0 in /usr/local/lib/python3.7/dist-packages (from tensorflow-gpu==1.15) (0.10.0)\n",
            "Requirement already satisfied: opt-einsum>=2.3.2 in /usr/local/lib/python3.7/dist-packages (from tensorflow-gpu==1.15) (3.3.0)\n",
            "Requirement already satisfied: tensorflow-estimator==1.15.1 in /usr/local/lib/python3.7/dist-packages (from tensorflow-gpu==1.15) (1.15.1)\n",
            "Requirement already satisfied: termcolor>=1.1.0 in /usr/local/lib/python3.7/dist-packages (from tensorflow-gpu==1.15) (1.1.0)\n",
            "Requirement already satisfied: werkzeug>=0.11.15 in /usr/local/lib/python3.7/dist-packages (from tensorboard<1.16.0,>=1.15.0->tensorflow-gpu==1.15) (1.0.1)\n",
            "Requirement already satisfied: setuptools>=41.0.0 in /usr/local/lib/python3.7/dist-packages (from tensorboard<1.16.0,>=1.15.0->tensorflow-gpu==1.15) (53.0.0)\n",
            "Requirement already satisfied: markdown>=2.6.8 in /usr/local/lib/python3.7/dist-packages (from tensorboard<1.16.0,>=1.15.0->tensorflow-gpu==1.15) (3.3.4)\n",
            "Requirement already satisfied: h5py in /usr/local/lib/python3.7/dist-packages (from keras-applications>=1.0.8->tensorflow-gpu==1.15) (2.10.0)\n",
            "Requirement already satisfied: importlib-metadata; python_version < \"3.8\" in /usr/local/lib/python3.7/dist-packages (from markdown>=2.6.8->tensorboard<1.16.0,>=1.15.0->tensorflow-gpu==1.15) (3.7.0)\n",
            "Requirement already satisfied: typing-extensions>=3.6.4; python_version < \"3.8\" in /usr/local/lib/python3.7/dist-packages (from importlib-metadata; python_version < \"3.8\"->markdown>=2.6.8->tensorboard<1.16.0,>=1.15.0->tensorflow-gpu==1.15) (3.7.4.3)\n",
            "Requirement already satisfied: zipp>=0.5 in /usr/local/lib/python3.7/dist-packages (from importlib-metadata; python_version < \"3.8\"->markdown>=2.6.8->tensorboard<1.16.0,>=1.15.0->tensorflow-gpu==1.15) (3.4.0)\n",
            "Installing collected packages: tensorflow-gpu\n",
            "Successfully installed tensorflow-gpu-1.15.0\n",
            "  Building wheel for gpt-2-simple (setup.py) ... \u001b[?25l\u001b[?25hdone\n",
            "WARNING:tensorflow:\n",
            "The TensorFlow contrib module will not be included in TensorFlow 2.0.\n",
            "For more information, please see:\n",
            "  * https://github.com/tensorflow/community/blob/master/rfcs/20180907-contrib-sunset.md\n",
            "  * https://github.com/tensorflow/addons\n",
            "  * https://github.com/tensorflow/io (for I/O related ops)\n",
            "If you depend on functionality not listed there, please file an issue.\n",
            "\n"
          ],
          "name": "stdout"
        }
      ]
    },
    {
      "cell_type": "code",
      "metadata": {
        "colab": {
          "base_uri": "https://localhost:8080/"
        },
        "id": "9gx3DSVw4HCn",
        "outputId": "0b5ec24e-cf66-48ad-e9b4-3a231388f99e"
      },
      "source": [
        "gpt2.download_gpt2(model_name=\"124M\")\r\n",
        "\r\n",
        "gpt2.mount_gdrive()"
      ],
      "execution_count": null,
      "outputs": [
        {
          "output_type": "stream",
          "text": [
            "Fetching checkpoint: 1.05Mit [00:00, 368Mit/s]                                                      \n",
            "Fetching encoder.json: 1.05Mit [00:00, 2.15Mit/s]\n",
            "Fetching hparams.json: 1.05Mit [00:00, 580Mit/s]                                                    \n",
            "Fetching model.ckpt.data-00000-of-00001: 498Mit [00:23, 21.2Mit/s]                                  \n",
            "Fetching model.ckpt.index: 1.05Mit [00:00, 179Mit/s]                                                \n",
            "Fetching model.ckpt.meta: 1.05Mit [00:00, 3.87Mit/s]\n",
            "Fetching vocab.bpe: 1.05Mit [00:00, 3.42Mit/s]\n"
          ],
          "name": "stderr"
        },
        {
          "output_type": "stream",
          "text": [
            "Mounted at /content/drive\n"
          ],
          "name": "stdout"
        }
      ]
    },
    {
      "cell_type": "code",
      "metadata": {
        "colab": {
          "base_uri": "https://localhost:8080/",
          "height": 306
        },
        "id": "sPa8IfcL9cBX",
        "outputId": "73e0724b-4622-4cda-8010-31da6efe0a04"
      },
      "source": [
        "d1 = pd.read_csv('articles1.csv', encoding = 'utf-8')\r\n",
        "d2 = pd.read_csv('articles2.csv', encoding = 'utf-8')\r\n",
        "d3 = pd.read_csv('articles3.csv', encoding = 'utf-8')\r\n",
        "data = pd.concat([d1, d2, d3])\r\n",
        "data.head()"
      ],
      "execution_count": null,
      "outputs": [
        {
          "output_type": "execute_result",
          "data": {
            "text/html": [
              "<div>\n",
              "<style scoped>\n",
              "    .dataframe tbody tr th:only-of-type {\n",
              "        vertical-align: middle;\n",
              "    }\n",
              "\n",
              "    .dataframe tbody tr th {\n",
              "        vertical-align: top;\n",
              "    }\n",
              "\n",
              "    .dataframe thead th {\n",
              "        text-align: right;\n",
              "    }\n",
              "</style>\n",
              "<table border=\"1\" class=\"dataframe\">\n",
              "  <thead>\n",
              "    <tr style=\"text-align: right;\">\n",
              "      <th></th>\n",
              "      <th>Unnamed: 0</th>\n",
              "      <th>id</th>\n",
              "      <th>title</th>\n",
              "      <th>publication</th>\n",
              "      <th>author</th>\n",
              "      <th>date</th>\n",
              "      <th>year</th>\n",
              "      <th>month</th>\n",
              "      <th>url</th>\n",
              "      <th>content</th>\n",
              "    </tr>\n",
              "  </thead>\n",
              "  <tbody>\n",
              "    <tr>\n",
              "      <th>0</th>\n",
              "      <td>0</td>\n",
              "      <td>17283</td>\n",
              "      <td>House Republicans Fret About Winning Their Hea...</td>\n",
              "      <td>New York Times</td>\n",
              "      <td>Carl Hulse</td>\n",
              "      <td>2016-12-31</td>\n",
              "      <td>2016.0</td>\n",
              "      <td>12.0</td>\n",
              "      <td>NaN</td>\n",
              "      <td>WASHINGTON  —   Congressional Republicans have...</td>\n",
              "    </tr>\n",
              "    <tr>\n",
              "      <th>1</th>\n",
              "      <td>1</td>\n",
              "      <td>17284</td>\n",
              "      <td>Rift Between Officers and Residents as Killing...</td>\n",
              "      <td>New York Times</td>\n",
              "      <td>Benjamin Mueller and Al Baker</td>\n",
              "      <td>2017-06-19</td>\n",
              "      <td>2017.0</td>\n",
              "      <td>6.0</td>\n",
              "      <td>NaN</td>\n",
              "      <td>After the bullet shells get counted, the blood...</td>\n",
              "    </tr>\n",
              "    <tr>\n",
              "      <th>2</th>\n",
              "      <td>2</td>\n",
              "      <td>17285</td>\n",
              "      <td>Tyrus Wong, ‘Bambi’ Artist Thwarted by Racial ...</td>\n",
              "      <td>New York Times</td>\n",
              "      <td>Margalit Fox</td>\n",
              "      <td>2017-01-06</td>\n",
              "      <td>2017.0</td>\n",
              "      <td>1.0</td>\n",
              "      <td>NaN</td>\n",
              "      <td>When Walt Disney’s “Bambi” opened in 1942, cri...</td>\n",
              "    </tr>\n",
              "    <tr>\n",
              "      <th>3</th>\n",
              "      <td>3</td>\n",
              "      <td>17286</td>\n",
              "      <td>Among Deaths in 2016, a Heavy Toll in Pop Musi...</td>\n",
              "      <td>New York Times</td>\n",
              "      <td>William McDonald</td>\n",
              "      <td>2017-04-10</td>\n",
              "      <td>2017.0</td>\n",
              "      <td>4.0</td>\n",
              "      <td>NaN</td>\n",
              "      <td>Death may be the great equalizer, but it isn’t...</td>\n",
              "    </tr>\n",
              "    <tr>\n",
              "      <th>4</th>\n",
              "      <td>4</td>\n",
              "      <td>17287</td>\n",
              "      <td>Kim Jong-un Says North Korea Is Preparing to T...</td>\n",
              "      <td>New York Times</td>\n",
              "      <td>Choe Sang-Hun</td>\n",
              "      <td>2017-01-02</td>\n",
              "      <td>2017.0</td>\n",
              "      <td>1.0</td>\n",
              "      <td>NaN</td>\n",
              "      <td>SEOUL, South Korea  —   North Korea’s leader, ...</td>\n",
              "    </tr>\n",
              "  </tbody>\n",
              "</table>\n",
              "</div>"
            ],
            "text/plain": [
              "   Unnamed: 0     id  ...  url                                            content\n",
              "0           0  17283  ...  NaN  WASHINGTON  —   Congressional Republicans have...\n",
              "1           1  17284  ...  NaN  After the bullet shells get counted, the blood...\n",
              "2           2  17285  ...  NaN  When Walt Disney’s “Bambi” opened in 1942, cri...\n",
              "3           3  17286  ...  NaN  Death may be the great equalizer, but it isn’t...\n",
              "4           4  17287  ...  NaN  SEOUL, South Korea  —   North Korea’s leader, ...\n",
              "\n",
              "[5 rows x 10 columns]"
            ]
          },
          "metadata": {
            "tags": []
          },
          "execution_count": 8
        }
      ]
    },
    {
      "cell_type": "code",
      "metadata": {
        "colab": {
          "base_uri": "https://localhost:8080/"
        },
        "id": "mQDN6g399hQ4",
        "outputId": "6e807e4e-e48b-4637-ffb4-0b6f654476c0"
      },
      "source": [
        "data['publication'].value_counts()"
      ],
      "execution_count": null,
      "outputs": [
        {
          "output_type": "execute_result",
          "data": {
            "text/plain": [
              "Breitbart              23781\n",
              "New York Post          17493\n",
              "NPR                    11992\n",
              "CNN                    11488\n",
              "Washington Post        11114\n",
              "Reuters                10710\n",
              "Guardian                8681\n",
              "New York Times          7803\n",
              "Atlantic                7179\n",
              "Business Insider        6757\n",
              "National Review         6203\n",
              "Talking Points Memo     5214\n",
              "Vox                     4947\n",
              "Buzzfeed News           4854\n",
              "Fox News                4354\n",
              "Name: publication, dtype: int64"
            ]
          },
          "metadata": {
            "tags": []
          },
          "execution_count": 9
        }
      ]
    },
    {
      "cell_type": "code",
      "metadata": {
        "id": "8RvVl7lz9j1Z"
      },
      "source": [
        "data['content'] = data['content'].fillna(\"\")\r\n",
        "data['title'] = data['title'].fillna(\"\")"
      ],
      "execution_count": null,
      "outputs": []
    },
    {
      "cell_type": "code",
      "metadata": {
        "colab": {
          "base_uri": "https://localhost:8080/"
        },
        "id": "2MzgA0R79qZ-",
        "outputId": "b52e130a-d915-4b4b-fb37-99639c371539"
      },
      "source": [
        "final_right = data[data['publication'].str.contains(\"Fox News\")]\r\n",
        "final_right = final_right[['title','content']]\r\n",
        "final_right.shape"
      ],
      "execution_count": null,
      "outputs": [
        {
          "output_type": "execute_result",
          "data": {
            "text/plain": [
              "(4354, 2)"
            ]
          },
          "metadata": {
            "tags": []
          },
          "execution_count": 11
        }
      ]
    },
    {
      "cell_type": "code",
      "metadata": {
        "colab": {
          "base_uri": "https://localhost:8080/"
        },
        "id": "cp-xNe2IBKFC",
        "outputId": "5e3fadb6-60b8-47dc-fb43-42c33645fa1e"
      },
      "source": [
        "final_left = data[data['publication'].str.contains(\"CNN\")]\r\n",
        "final_left = final_left[['title','content']]\r\n",
        "final_left.shape"
      ],
      "execution_count": null,
      "outputs": [
        {
          "output_type": "execute_result",
          "data": {
            "text/plain": [
              "(11488, 2)"
            ]
          },
          "metadata": {
            "tags": []
          },
          "execution_count": 12
        }
      ]
    },
    {
      "cell_type": "code",
      "metadata": {
        "id": "nqlxH6QbATeW"
      },
      "source": [
        "final_right['content'].to_csv(\"rightcontent.txt\",header=None, index=None, sep='\\t', mode='a')\r\n",
        "final_left['content'].to_csv(\"leftcontent.txt\",header=None, index=None, sep='\\t', mode='a')"
      ],
      "execution_count": null,
      "outputs": []
    },
    {
      "cell_type": "code",
      "metadata": {
        "id": "MCibNVw0AVUH"
      },
      "source": [
        "sess = gpt2.start_tf_sess()\r\n",
        "file_name_1 = \"rightcontent.txt\""
      ],
      "execution_count": null,
      "outputs": []
    },
    {
      "cell_type": "code",
      "metadata": {
        "colab": {
          "base_uri": "https://localhost:8080/"
        },
        "id": "wvWc-sTFA5kj",
        "outputId": "93568eb6-bd15-462b-9d2f-4ffc77c980a9"
      },
      "source": [
        "#for right content\r\n",
        "gpt2.finetune(sess,\r\n",
        "              dataset=file_name_1,\r\n",
        "              model_name='124M',\r\n",
        "              steps=2000,\r\n",
        "              restore_from='fresh',\r\n",
        "              run_name='run_right_1',\r\n",
        "              print_every=100,\r\n",
        "              sample_every=200,\r\n",
        "              save_every=500,\r\n",
        "              )"
      ],
      "execution_count": null,
      "outputs": [
        {
          "output_type": "stream",
          "text": [
            "WARNING:tensorflow:From /usr/local/lib/python3.7/dist-packages/gpt_2_simple/src/sample.py:17: where (from tensorflow.python.ops.array_ops) is deprecated and will be removed in a future version.\n",
            "Instructions for updating:\n",
            "Use tf.where in 2.0, which has the same broadcast rule as np.where\n",
            "Loading checkpoint models/124M/model.ckpt\n",
            "INFO:tensorflow:Restoring parameters from models/124M/model.ckpt\n"
          ],
          "name": "stdout"
        },
        {
          "output_type": "stream",
          "text": [
            "\r  0%|          | 0/1 [00:00<?, ?it/s]"
          ],
          "name": "stderr"
        },
        {
          "output_type": "stream",
          "text": [
            "Loading dataset...\n"
          ],
          "name": "stdout"
        },
        {
          "output_type": "stream",
          "text": [
            "100%|██████████| 1/1 [00:14<00:00, 14.76s/it]\n"
          ],
          "name": "stderr"
        },
        {
          "output_type": "stream",
          "text": [
            "dataset has 3017097 tokens\n",
            "Training...\n",
            "[100 | 236.44] loss=2.81 avg=2.81\n",
            "[200 | 470.92] loss=2.73 avg=2.77\n",
            "======== SAMPLE 1 ========\n",
            " congressional administration and was not authorized to publicly discuss his private emails. He then called up Clinton aide Huma Abedin, and asked her, “Did you email me, or did you not email me?” Clinton replied, “No, sir, I’m sorry.” The Justice Department has been trying to get Comey under the federal Espionage Act to give him immunity in exchange for testimony about his conversations with the   about the email system, even as several media organizations are pushing the theory of obstruction. “There’s no question that the FBI is investigating Mr. Comey for his alleged conduct in conducting a review of the Clinton Foundation and for his statements regarding his contacts with foreign officials, and for failing to disclose any contacts with foreign government officials, which is part of his request to Congress,” Rep. Dave Reichert, of Wisconsin, said. “The House and the Senate are reviewing all of this. They are going to act as if they had an open criminal investigation. They are going to act as though they had nothing to do with Mr. Comey in his emails. ’” But Trump’s recent statements that he and Comey made the same call about Clinton’s emails were not enough to disqualify the Republican nominee’s candidacy now more than two days before Election Day. Comey, along with other federal prosecutors, are now saying they have narrowed down the investigation into a secret   email exchange between Clinton aide Huma Abedin and Trump campaign manager Corey Lewandowski.    \n",
            " The White House announced Monday that it has decided to drop the criminal charge against former National Security Adviser Michael Flynn’s Russia connections  —   which the Justice Department had previously said was the result of ongoing efforts on the part of the Obama administration to pressure Flynn to drop out of the 2016 presidential race. A State Department spokesman, Jay Fitton, said the decision was “for now. The U. S. has no reason to believe Mr. Flynn is not subject to the appropriate laws to which he applied. Our decision is not to recommend Mr. Flynn is not subject to the appropriate laws. ” The latest headlines on the 2016 elections from the biggest name in politics. See Latest Coverage → Flynn, a private citizen and Trump campaign chairman when he failed to disclose his Russian contacts last year, is serving a 12-month suspension of his campaign. He has been removed from federal court. The Justice Department has said it is reviewing what happened. The decision was made in the wake of Flynn’s attorney’s letter to the Justice Department alleging that the Justice Department’s policies are ”obligat[ing] [Flynn] to mislead and abuse the government to advance national security goals. ” Flynn has pleaded guilty to lying to the FBI and the FBI’s director in August over contacts he had with the Trump campaign. He received a 10 year sentence and a $250, 000 fine. The Associated Press contributed to this report.    \n",
            " Fox News on Friday aired a detailed, yet controversial, review of the FBI’s investigation of the Trump University scandal and its impact on U. S. voters and the country. The segment, which focused on the case against Trump University, called the matter a ”horrifying   ” of the time. During the segment, the hosts gave Trump and his campaign a rough guide to his presidency and how to work with     voters to turn out his supporters. Click here to get a free iPhone X! The Fox News interview was aired in an episode airing Monday, March 22. The video, titled “The Trump Universe: A Brief History of the Trump University Case, Explores the   Trump University Movement, Analyzes the Campaign Contributions and ”Rates,” was posted on Facebook Friday and was titled “A   primer for Trump University.  ”   \n",
            "President Barack Obama on Saturday ordered his Homeland Security Department to conduct a review into how “President Trump’s Muslim immigration efforts have been conducted and what actions should be taken in furtherance of the goal of strengthening the U. S.’ national security and economic interests,” the president said in a statement. In a letter to Department of Homeland Security Secretary Jeh Johnson, Obama requested Homeland Intelligence Agency (DIA) to develop a policy “that is consistent with the   principles of the Constitution,” the president wrote. “In that context, I respectfully respectfully request that the DIA conduct   review    to assess the      policies of the Office of Immigration Review    with respect to immigration policies that have been proposed by the past administration or the Department of Homeland Security pursuant to an   of the Office of Immigration Review that were created under the Immigration Act of 1952. ” President Obama did not recommend that DHS conduct this review. The DHS should instead conduct a   review of how\n",
            "\n",
            "[300 | 717.30] loss=2.60 avg=2.71\n",
            "[400 | 952.22] loss=2.68 avg=2.70\n",
            "======== SAMPLE 1 ========\n",
            " sure to stay focused on your life and don’t let yourself drift off to other ideas. Be realistic and don’t let the world become a story told in a box. ”  \n",
            "”I think that it’s important to know that every day that people are being paid differently and there are still some places that are paying,” Trump said. ”If we don’t do what we have to do to protect, we will go to many places for jobs. I’m pretty sure that we’ll be taking a couple of trillion and we’ll be at one of the places that has $15 trillion going to, I’m telling you.” The latest headlines on the 2016 elections from the biggest name in politics. See Latest Coverage →  Fox News confirmed that Donald Trump recently made an appearance at a fundraiser for Sen. Bernie Sanders for Hillary Clinton at a hotel that was used for paid favors for   Hillary Clinton.  The latest headlines on the 2016 elections from the biggest name in politics. See Latest Coverage → ”I’d say there is a problem within our country that I would be responsible enough for,” Trump said, ”that I would have to stand up for America.” The former Apprentice host, who once worked for the network, was   for Trump.  Though he was a Republican Party fundraiser, the Trump ”The Apprentice” star didn’t appear at the fundraiser but appeared alongside Trump himself at a   event in West Hollywood to pay the   host $7, 000. The Associated Press contributed to this report.                 \n",
            "Trump’s comments came at a time in which political discourse was at its busiest and his personal brand was starting to look increasingly like a presidential campaign. The   presidential primary season could be just beginning.   With the Democratic race now so close, the Trump campaign has been getting ready to start building its first presidential campaign around the next president. Trump’s message appears to have been delivered early on Tuesday in Washington, but the latest headlines are highlighting how the campaign is preparing to spend big money on advertising and staff, and how Trump plans to make sure to get his message through before his convention. While his comments may have hurt supporters, many of whom were critical, his message was a huge political success so far.                                                                                                         —   Clinton campaign officials plan    ads to appear throughout the campaign to remind people to call in to talk to people who may be upset with Trump. The ads will be paid for through social media. While Trump’s comments in the past could have caused a stir among voters, Clinton campaign spokesman John Podesta said Trump will need to “explain himself” before he’s expected to deliver a major speech. ”How he deals with the press is important,” Podesta pointed out. He said there was a point when he was just being asked to talk about political issues and he made sure to say that he’d speak to this issue at his rallies. He also said a lot of people might not be able to get to his rallies if they miss or can't be reached. The campaign is also looking for supporters to be on its best behavior to help sway a Trump victory. And while Podesta said there are “no guarantees that he will deliver a big speech,” he said he’ll look into a campaign plan and “go into things cautiously.”                                                                                                                   \n",
            "”It’s always fun when you can take the microphone and make speeches,” Clinton said in her closing remark. “That is very rare, and a very rare thing.” She then mentioned two recent instances of Trump, when she and his followers were accused of “deplorable behavior” at his rallies\n",
            "\n",
            "[500 | 1197.17] loss=2.61 avg=2.68\n",
            "Saving checkpoint/run_right_1/model-500\n",
            "[600 | 1434.74] loss=2.56 avg=2.66\n",
            "======== SAMPLE 1 ========\n",
            "ter’s death had led the school to shut down at the end of May and, after the school’s administrator said in a statement, the board was informed by district officials early July that the safety of students was paramount.  ”The safety of our children is paramount.”   The Board of Regents is now deciding on what to do, as the school’s board of regents have not met since May 9.   \n",
            "\"  There is a new law that allows people convicted of the murder of a young boy to keep their guns. The Ohio Supreme Court has upheld a law passed by the Ohio Republican Party and the Legislature that allows people convicted of murder to keep their guns. The Ohio Supreme Court last month upheld a law passed by the Ohio Republican Party and the Legislature that allows people sentenced to death to be able to carry their concealed weapons without any charge.           This means Ohio law was changed on Aug. 14, the day a     man and woman were killed.         The Ohio Supreme Court last month upheld a law passed by the Ohio Republican Party and the Legislature that allows people convicted of murder to keep their guns. The Ohio Supreme Court last month upheld a law passed by the Ohio GOP and the Legislature that allows those sentenced to death to be able to carry their concealed weapons without any charge.              This means Ohio law was changed on Aug. 14, the day a man and woman were killed.             This means Ohio law was changed on Aug. 14, the day a man and woman were killed. A group of   people were shot and killed in downtown Columbus. Police said they were heading to a parking lot when someone opened fire. The gunman, who is in custody in Ohio, was carrying an   rifle that he had on the side.  “This is not a normal, a normal day today,” Cleveland Fire Chief John Durbin said. “This is a very unusual day. People have been walking, walking and talking, talking to each other in their lives. ” The Ohio Department of Justice said more than 1, 000 people have been charged with crimes committed by suspects of the deaths. A federal appeals court rejected a request for a postponement on Aug. 11, and scheduled a hearing for Aug. 20. State attorney Bill Miller said Friday he did not have specifics from the Ohio Department of Public Safety that would reveal exactly how the people killed were shot or killed. The case could be resolved in several months. Officials say the gunman shot about 20 people during his spree last year. He is being held without bail. The names of the victims and other victims have not been released. The Associated Press contributed to this report. It should be noted that police have not confirmed a motive. The Associated Press contributed to this report.\n",
            "  The   gunman who killed nearly 200 people on a Pennsylvania highway Friday was convicted Wednesday on a murder charge in Milwaukee, authorities confirmed to Fox News on Friday, and prosecutors said that gunman James Holmes was not mentally unstable. Holmes, 59, was convicted of   manslaughter and other charges Friday. Holmes denied any wrongdoing and told Fox News he had never been shot or died with  . Holmes was not among the 100 people killed in Thursday’s shootings, which killed dozens at the   Milwaukee Memorial Park along the Milwaukee River and in an isolated parking lot near a park and the Indiana Tollway. The attack was the   deadliest in recent history.  Holmes had just been convicted of the   slaying of a man who was driving to a convenience store in Indiana. The   convicted felon was serving a life sentence for possessing a handgun for a crime of violence. But Holmes, who pleaded no contest to killing    Michael Brown, testified at the trial that he had ”no idea what” could happen when  . He also said ”people are starting to believe” that ”there’s some conspiracy.”  Holmes pleaded guilty to murder and other charges in the killings that happened Wednesday in Milwaukee.           \n",
            "  A Muslim woman was shot dead near a crowded restaurant in Manhattan Sunday, a day after she told the victim’s family she was ”going to die of old age” but then walked off the scene, police said. The mother of the victim,     Tamir Rice, was also shot at around 9 p. m. in the Lower East Side area, according to the police investigation. Rice, who was killed in a police investigation, has told her family that she was beaten up by men who called her ugly and called her racist and told her to ”die of old age.” The Rice family and friends rushed to help the injured victim as police officers and paramedics shot and killed the young\n",
            "\n",
            "[700 | 1680.13] loss=2.43 avg=2.63\n",
            "[800 | 1915.03] loss=2.54 avg=2.62\n",
            "======== SAMPLE 1 ========\n",
            " stream” that they were able to find an unoccupied apartment nearby and, to put it mildly, it appeared that they were going through some sort of trauma. The video of the alleged attack goes viral on several sites and then is picked up by other people who have similarly   allegations. On Monday, CNN confirmed after multiple reports that the video is still active and that the police were working with the FBI to determine the identity of the suspect. “As police work to bring anyone apprehended, we look for clues but we don’t always find it,” Sgt. Anthony Ciano said after the report. “In the early morning hours of Oct. 3, we were dealing with a burglary, theft of property and one person was trying to break in. When we found the person and saw the identity on the video, we immediately contacted (Department of Justice) and they told us that someone had broken in and took the identity of that person,” he added.\n",
            " In an era of increasing paranoia and public outrage over mass media bias, a major Washington Post investigation reveals a      video, purportedly from the Trump campaign, is the source of a vast, unverified, and  . Video, purportedly from Trump campaign spokesman Jason Miller’s phone just minutes before the Democratic convention in Philadelphia, was discovered Sunday by the paper’s reporter and now has been identified as a fake. It comes after months of leaks claiming the campaign, as a result of a leaked New York Times report, was trying to manipulate a leaked report by its reporters. The video, posted on Twitter early Sunday morning, begins with a clip of Trump himself speaking as Trump’s family watches on in Philadelphia. While much has changed in the last two weeks, a number of the same clips still remain true and circulated by Trump supporters. In addition, Trump and other Trump supporters have circulated an online database of   Trump supporters who have claimed, to varying degrees, that a video is the source of any of the claims Trump has made over the years. Some have even offered to pay to watch Trump’s speech at the convention, but it has always been unclear whether they also have a physical presence. However, it appeared in the latest edition of “The Trump Effect” released Monday morning. The video, which appears to be a modified version of an earlier,   video from the campaign of Democratic presidential candidate Rep. Debbie Wasserman Schultz, who was also on the bus, comes after several other claims of campaign manipulation and conspiracy theories surfaced over the weekend. The footage shows Trump supporters watching in Pennsylvania after their candidate, Hillary Clinton, was scheduled to speak at an Ohio rally. They are then seen taking a photo of Clinton near a polling place. It is not clear if the incident was part of a coordinated effort, the latest in a string of false claims. Trump campaign manager Kellyanne Conway, meanwhile, defended her team by saying it is focused on the Philadelphia and is “reaffirming the facts. ” Click for more from  . See the Fox News 2016 battleground prediction map and make your own election projections. See Predictions Map →   \n",
            "A U. S. drone strike Monday, which killed four suspected militants suspected of using   suicide vests near the   village of Manna in southern Somalia, underscores the threat posed by extremist groups, an official with the U. S. International Security Assistance Force said Tuesday. A drone strike killed all four suspected militants suspected of using suicide vests at a military base in northern Somalia, according to the officials familiar with the attack, which also killed U. S. Special Operations forces and two civilians. The identities of the victims and their attackers were not immediately clear. One statement from the U. S. Mission in Somalia said the incident occurred on an outpost in southern Somalia. ”The mission can confirm with you that reports of this incident continue to be reported to the U. S. Embassy in Somalia, and to the other government of Kenya, the government of the United Arab Emirates and to the international community, that no government, or party, is responsible for the alleged acts of terrorism,” the statement said. U. S. Secretary of State John Kerry said at a press conference following the strikes, it was ”absolutely appropriate that we take appropriate military actions against them.” ”In the past, when we have known or suspected that an active   or an   would be involved, our security forces took action to prevent or to prevent the activities,” Kerry said. The drone strikes appeared to be the Pentagon’s first in Syria, but they had another effect in Afghanistan, where more than a dozen suspected militants were killed in December and January by U. S. troops, U. S. Central Command said. The senior military official, speaking on the condition of anonymity because he was not authorized to discuss the ongoing operations directly, said the U. S. has provided more than a dozen additional troops in the last two\n",
            "\n",
            "[900 | 2159.82] loss=2.32 avg=2.58\n",
            "[1000 | 2394.14] loss=2.03 avg=2.52\n",
            "Saving checkpoint/run_right_1/model-1000\n",
            "WARNING:tensorflow:From /usr/local/lib/python3.7/dist-packages/tensorflow_core/python/training/saver.py:963: remove_checkpoint (from tensorflow.python.training.checkpoint_management) is deprecated and will be removed in a future version.\n",
            "Instructions for updating:\n",
            "Use standard file APIs to delete files with this prefix.\n",
            "======== SAMPLE 1 ========\n",
            " district of New Hampshire.  According to CBS News, the couple also reportedly had a minor child.  The lawsuit alleges that the state of New Hampshire has “failed [a] professional and a trust established   and has failed to provide the care required by the statute in  . ” The Associated Press contributed to this report. \n",
            "”  To use ArchiveBot, add a link to your document: https:  .  .  Add archive : archive as doc: template . add token( \"  \" ).convert([]) // #[allow(missing, unchecked)]> #[allow(missing, unchecked)]> build the project using pip install python3 install as pypi pip install .. server.npm #[allow(missing, unchecked)]> #[allow(missing, unchecked)]> build using pandas as pydriver pip install pandas server.npm #[allow(missing, unchecked)]> #[allow(missing, unchecked)]> #... #[import pandas as pydriver] #[import requests, pandas.core as pydriver.core] #[import collections, pandas.core.FusionIterator as pydriver.core.FusionIterator] import tree >>> trees.find(path) #[allow(missing, unchecked)]> #[allow(missing, unchecked)]> #[allow(missing, unchecked)]> #[require(missing, unchecked)]> #[import pandas.core.FusionIterator as pydriver.core.FusionIterator] import tree >>> root, path : collections.sort.Enumerable, results : collections.sort.Enumerable #[allow(missing, unchecked)]> import pandas >>> tree: collections.sort.Enumerable #[allow(missing, unchecked)]> #[allow(missing, unchecked)]> #[allow(missing, unchecked)]> #[requires(missing, unchecked)]> #[def get_user_id(user_id, password): username = user_id if  .has_errors(): print(username) root.add_argument( -h, ”user”, password): root.add_argument( -h, ”password”, password): #[allow(missing, unchecked)]> #[allow(missing, unchecked)]> >>> tree.find(user_id, password)] #[allow(missing, unchecked)]> #[allow(missing, unchecked)]> #[requires(missing, unchecked)]> #[requires(missing, unchecked)]> #[allow(missing, unchecked)]> #[requires(missing, unchecked)]> #[requires(missing, unchecked)]> #[requires(missing, unchecked)]> #[requires(missing, unchecked)]> #[requires(missing, unchecked)]> #[requires(missing, unchecked)]> #[requires(missing, unchecked)]> #[requires(missing, unchecked)]> #[requires(missing, unchecked)]> #[requires(missing, unchecked)]> #[requires(missing, unchecked)]> #[requires(missing, unchecked)]> #[requires(missing, unchecked)]> #[requires(missing, unchecked)]> #[requires(missing, unchecked)]> #[requires(missing, unchecked)]>\n",
            "The FBI, in a warrant obtained Friday, said the investigation has been started using a computerized system where users upload and view information, but no other details remain. The FBI and the Department of Justice, in an earlier statement, said that none of the emails obtained in the probe have been marked classified by any classification markings. FBI Director James Comey said that the FBI has not made a determination as to whether the emails are classified at the time of the discovery, and that it is possible that some of the information is still being produced. “We remain hopeful that the material contained in the email is not only classified but also may still be available in the future,” Comey added. The Associated Press reported earlier Friday that the FBI had started working on the case in collaboration with the Justice Department. Fox News first reported Friday that the Justice Department had asked that emails be withheld from the public if they contain classified sources. A Justice Department spokesman, told Fox News the department could not identify the sources of the information. ”It is unclear to what extent a federal case in which any party was involved has been moved out of the government.” Justice Department spokeswoman Lorna Verma said Friday that the department will take steps in coordination with government agencies to determine if the classified materials are still being produced. The department did not release any further information about the case. However, Comey said the investigation is being ”continuous,” without saying what investigators may have learned or what investigative efforts they may also be undertaking. The FBI has been the subject of extensive public scrutiny since the agency inspector general concluded last summer that none of the emails were marked classified. The inspector general’s\n",
            "\n",
            "[1100 | 2641.11] loss=2.32 avg=2.51\n",
            "[1200 | 2875.52] loss=2.30 avg=2.49\n",
            "======== SAMPLE 1 ========\n",
            " last year, with the U. S. leading Australia, Mexico, South Korea and   countries in terms of exports. With its booming economies and a robust economy, China is already on track to deliver on the $1 trillion target by 2020, according to economists at the University of Southern California. The goal to have U. S. GDP of $30. 7 trillion by 2020 exceeds expectations, and is already under way. China’s stock market tumbled after reports that the country’s central bank has raised interest rates, triggering a major run on stocks this year and putting the country’s stock market at risk. The Chinese economy also began weak in December and December was largely driven by the fact that U. S. stock inventories rose last month in some regions.  ”We are very bullish on China, but it has to be a market driven by demand,” said Jeff Lent, chief economist at the U. S. Federal Reserve Bank of New York. Lent said China’s stock markets have ”zeroed” since December, and that China’s   economy is moving through the nether regions. China has had a string of strong months, with the economy running at more than 2. 6 percent capacity, according to the International Monetary Fund. On January 5, a record high for U. S. domestic demand, 1. 9 million tons was added to the national inventory, according to IOM.  Meanwhile, China’s stock market has fallen to its lowest level yet, after hitting its highest level in December. In January, the Shanghai Composite shed 8. 5 percent after slipping 2 percent in the past two months. But market expectations for January are far higher and analysts believe the Shanghai Composite is nearing its   target, which means its bull market could hit 1, 500 points at some point this year, after falling for the past three years. A record high of 121. 7 billion yuan ($106. 5 billion) was outstanding on January’s stock market, an improvement from the 118. 6 billion yuan originally outstanding on January    a 7 percent increase and up from 122. 8 billion yuan in January, according to government data. Prices have fallen 1. 7 percent in the past two months.  Investors should see a big boost in   growth when the government completes its road map to tackle China’s economic and fiscal problems, according to a report from IHSMarkets Inc. The report says the number of new jobs created worldwide this year has added 1. 8 million jobs, driven in part by new investment by Chinese businesses in the United States and other emerging markets. China is spending $500 billion annually on defense and needs $11. 2 billion for a   budget, according to the report.\n",
            " A prominent American who fled his own country to join ISIS has been charged with terrorism charges for allegedly plotting with others to attack his homeland. Court documents for two of the victims of the Sept. 11, 2001, terrorist attacks allege the two men plotted and participated in a plot to detonate a homemade homemade bomb inside a   apartment rented to the former Guantanamo Bay detainee. U. S. District Court Judge Emmet Sullivan in Manhattan issued the charges against    Muhammad Yunus, who escaped to Pakistan as a refugee from the Taliban, and his former employer, Omar Khudair, 22, who was held since Oct. 9, 2015, after being charged with one count of using the alias Abu Mohammed, according to the court documents. The charges relate to the alleged plot. ”Mr. Yunus was in direct contact with associates of Abu Mohammad and with the purported ’idea’ in the summer of 2014 that the U. S. could conduct bombing operations in their areas of production,” Sullivan said in a press release. The judge denied motions to dismiss the charges against Mr. Khudair and two other defendants in April, as well as a second motion filed last month to dismiss the charges. The first motion seeks a judge’s order against both defendants, in which a U. S. marshal would also be authorized to issue a restraining order, as Mr. Khudair’s attorneys argue they can’t afford to meet with his family this year. The    lawyer is suing by name, as is Mr. Khudair’s attorney, David Wegner. The court filing claims the allegations are ”against his own best interests and against his due rights.” See the Fox News 2016 battleground prediction map and make your own election projections. See Predictions Map → On Sept. 13 U. S. District Judge Emmet Sullivan issued a preliminary injunction that will see the two defendants convicted on two counts of conspiracy to commit terrorist acts relating to the   siege of the Guantanamo Bay detention facility in Cuba, which President Obama has authorized in past weeks. Prosecutors contend the plot was carried out as part of an effort to increase money flowing to the Islamic State group. The\n",
            "\n",
            "[1300 | 3120.60] loss=2.29 avg=2.47\n",
            "[1400 | 3354.97] loss=2.33 avg=2.46\n",
            "======== SAMPLE 1 ========\n",
            " it’s a   campaign.  But they should pay special attention to what they call the ”war on terror for whom it’s about as important.” “  is a pretty poor description of ”Americans.  If you don’t believe me, I hope you don’t read them. ” In an interview Sunday with ABC’s “Good Morning America,” Hillary Hillary Clinton accused of using the war on terror  —   which has been described as an international terrorism by Obama and others  —   to try to divide the country, the nation, family, and communities. Clinton said Obama was not trying to separate blacks from the crime wave or radical Islam, but rather that the U. S. was part of an “international plot” that involved an ”Islamic State in Iraq and Syria.” “If they aren’t going to see us as a nation, they have to see us as a community. ” She also suggested ISIS is now more “active than ever” and ”alliances formed across the Middle East are now stronger.” Trump’s response also came after the candidate repeatedly asserted on the campaign trail that the U. S. “military interventions” have killed millions who have been deemed dangerous. “We’ve been able to keep thousands of our troops in Iraq, and millions of others who had been around before ISIS came to the U. S. in the days leading up to George W. Bush,” he said in 2012. “It’s a very real threat. ” Trump has long been accused of failing to make peace between the two countries, and has vowed to do both. In his final day in the race last week, Hillary Clinton was quoted as saying “The war on terror is about to start. ” Yet some Republicans, including many from the party’s establishment, seem to be rallying behind Trump, considering it would put Republicans in a tough spot. “If he loses Florida, you’re going to see the worst of both worlds come crashing down,” a   former member of the House Judiciary Committee told ABC’s “Good Morning America. ”   \n",
            "    The Supreme Court on Monday declined to rule on a controversial case involving a law that would have kept New Hampshire’s new gun law under the current state law. President Obama’s court issued a brief statement late Monday saying ”There is nothing in our Constitution which prohibits anyone, not even a government employee, from carrying a   handgun in a public place.” At issue was an original ruling by the high court in 1994 and a case from the late 1960s that sought to keep a     license over an   handgun license. The Supreme Court rejected the state appeal two years later. The state challenged the ruling on the grounds that the   gun law “was not substantially constitutional,” and could not be enforced. Lawmakers also opposed the ruling. In a   decision Tuesday, the high court dismissed arguments that the law would have had a racial, social and other   effect, and cited a 2011 case in which three black students lost their cases against a predominantly white University of North Carolina School of Law in North Carolina, citing “racial discrimination. ” The court disagreed, ruling that the law does not require black students to obtain IDs as to who owns or transfers guns. ”It is apparent from our reading of the circumstances that race matters in the determination of a constitutional challenge to the   law. See,” said Justice Ruth Bader Ginsburg, during an intercession. “We think race was a factor in the decision of the Supreme Court, and we have no basis in history to claim an exhaustive examination of the circumstances surrounding the ruling.” The appeals court case cited by the Supreme Court was Shelby v. Holder, which asked a federal district court to review whether a state law passed as a law under another state “could have had a racial effect on New Hampshire’s public handgun license and subsequent use. ” The panel rejected the state’s argument that the law would have a disparate impact on    because New Hampshire is a diverse state. Justice Sonia Sotomayor noted the need to make sure that New Hampshire’s law had good racial and psychological policy. She said New Hampshire has a “long tradition” of racially discriminatory practices in the United States. “This is a federal court decision,” said Justice Stephen G. Souter Jr. “We are extremely fortunate that the Supreme Court made the right decision,” said Gurbach, the Democratic vice presidential nominee. “We’re going to fight until the left comes clean about their hate crimes  —   but we need to get to the bottom of who committed\n",
            "\n",
            "[1500 | 3599.51] loss=2.18 avg=2.44\n",
            "Saving checkpoint/run_right_1/model-1500\n",
            "[1600 | 3836.28] loss=2.26 avg=2.43\n",
            "======== SAMPLE 1 ========\n",
            " images.  The paper, meanwhile, was among those who were arrested in the case. The other two prosecutors are being held pending a criminal investigation by the FBI.  The Associated Press contributed to this report.   \n",
            " A Texas woman accused of running afoul of a federal   law while in the U. S. is in a better condition than after being transferred from a detention facility, a federal judge in Dallas ordered Monday.   Jessica Hernandez, 19, was charged by a federal magistrate judge Monday in Texas with two counts of obstructing a federal officer and one count of felony perjury. The charge carries a maximum penalty of 20 years in prison. She faces six months in federal prison. Her attorney has not yet responded to requests for comment about her condition or whereabouts. Her attorney on Monday declined to comment on whether she has a lawyer. Her lawyer on Monday afternoon also declined to comment on her injuries from the attacks. ”Jessica is in great shape,” Dallas Health and Human Services Secretary Liz Bowman wrote in an email. ”She’s been in and out of trauma centers and she is getting good     care in Texas.” A spokeswoman for Fort Meade County said it was ”honored and honored that Texas is prepared for a trial on the charge of obstructing a federal officer and one count of perjury.”\n",
            "  A senior lawmaker in Wisconsin said Monday that a former federal law enforcement officer who committed rape in a Washington mall sparked a national debate over policing for ”sexting” ”lunacy” because she was at work. “In some instances, people would get out of their jobs, or they would commit sexual violence,” Rep. Greg Walden,  . said in a statement. “It’s a sad reality that these acts of sexual violence against women and girls and their intimate relationships could happen at any time. ” Wisconsin state police are investigating for possible sexual violence against women and girls during the mall attack at the Cascade Mall in Olympia.   Federal law says ”any action by police to suppress and hinder the lawful conduct of a person or an assembly, or to withhold the consent of another, for a purpose other than as a remedy for a riot, insurrection, or insurrection, or to permit or in any case to facilitate the violation or in any case to interfere with the peace.” The Associated Press contributed to this report.\n",
            "  A California college student who vanished while hiking in California wilderness this past summer had a harrowing past ahead of her, friends said. Melissa Click, who disappeared while hiking in California in June 2015, reportedly was among several men who lured her to a wilderness area in southern California. Click was last seen on a trail around 9 a. m. June 20 when she went to sleep. ”The worst part about this investigation is that in trying to find her, we never know where she may be,” California State Police Lt. Brian Casseger told FoxNews. com. ”If you get there late and have to wait a day for your body to come back, that’s a major accomplishment. It’s a lot more important to find the boyfriend and date he’s been with, because if there’s a fight, then the police department, the state police and this individual may have committed sexual violence.” State police did not identify the individual. Click’s boyfriend, Tami Fitzgerald, was booked on a misdemeanor aggravated kidnapping charge last summer and has been jailed on   charges, authorities said in a release. FoxNews. com, citing a law enforcement source, reported Tuesday that law enforcement agencies around the state are investigating. The Associated Press reported Tuesday that investigators are interviewing ”several dozen” people, some of them college students, who may be part of the suspects’ families. Click was one of about 200 students from two college campuses who vanished last summer while hiking in California south of San Francisco and never turned up at school or was missing. Click, 29, had spent time in and around the area in the town of Alameda, about 100 miles to the south of San Francisco, between Oakland and San Jose.  Investigators have turned up no trace of her family and her last known address. The college town where Sheikah and Tessa have been missing has been closed since May, when investigators said Tessa went missing and was never located. The FBI is also investigating whether Fitzgerald may have been compromised and set up by the boyfriend, FoxNews. com reported last month, after the boyfriend gave investigators an email with information on where Tessa may have gone and the whereabouts of the pair, the report said. As part of the process of determining whom to look for, authorities are also looking into how Sheikah is identified and whether Tessa is connected to Fitzgerald. Catherine Herridge is a San Francisco Chronicle staff writer. E-mail: cherridge@sfchronicle. com\n",
            "  A\n",
            "\n",
            "[1700 | 4080.82] loss=2.14 avg=2.41\n",
            "[1800 | 4315.59] loss=2.14 avg=2.39\n",
            "======== SAMPLE 1 ========\n",
            " aid. A spokesperson for the International Rescue Committee, which is helping evacuate the injured, told FoxNews. com that the plane came down about 8p. m. local time on Friday. ”The International Rescue Committee is in full contact right now and has a plan in place to evacuate patients in the   zone with all the aid,” a spokeswoman for the group told ABC. The spokesperson said the plane probably flew down in a pattern that the Organization for Security and Cooperation in Europe or other European airports were likely to be in. ”There is also concern that if there had been any kind of   there could have been a fire,” the official said. ”This is a concern that the [interagency] contact has been in poor condition and we have to take some precautions to save people before they come out of the plane.” The latest disaster has already sent ripples throughout Europe: The aviation authority has already activated around 600 flights, and an international rescue team is set to deliver food and assistance to   areas along the route. ”What’s happened is a very sad reminder of the danger Europe today can be forced to navigate, and this was a very unfortunate scenario that shows the dire need for   protection,” said Paul Browne, a fellow at the International Crisis Group, or ICG. ”We’ve got the potential for very serious tragedies, and one day we may have lost the lives of 10, 000 people.” ”Civilians are not the main focus,” said Mark Jurgens, a European Council member for humanitarian issues. ”Civilians are the most vulnerable part of the situation.” According to the U. N.  Office for the Coordination of Humanitarian Operations satellite imagery, the airspace over northern Syria as well as parts of the   Halab region (from the Turkish border and   of the Greek coast) are under attack from several types of militant groups. In the   SANA images, the area looks like it had struck a crossroads:   is the only   area that has not been completely reclaimed, with only the area under government control untouched.   Syrian government troops, supported by   air strikes, are poised to cut off the supply route from the   area. Meanwhile, the United Nations has warned that the violence plaguing the country poses a danger to peace efforts in the country. Earlier Saturday, the United Nations imposed a punishing closure on a rebel enclave inside Syria’s northern city of Aleppo that stands largely immune to the onslaught of militants. The closure forced evacuations of residents and the seizure of aid convoys. With the closure looming, evacuees were ordered back into the city after nearly six hours of sustained fighting. Aid groups are estimating that at least 500, 000 Syrians remain in Aleppo. The closure comes as several Syrian government forces withdrew amid their fight back in the northern province of Palmyra on Thursday, the country’s civil protection service said. The Syrian Observatory of War and   Syria group said on Sunday that the heavy bombardment by rebels and government forces had killed more than 150, 000 people, including a senior rebel official and hundreds of civilians trapped with high explosives. It was unclear further who was responsible for   residents in the northern city of Aleppo.\n",
            "    The Syrian army declared victory over the jihadist group Wednesday as it launched its heaviest offensive yet against the Islamic State terror group in the country’s north and west while also advancing in the country’s   province and on its northern   border. The military said up to 500, 000 fighters had retaken almost all of Syria and were moving back to the country’s   heartland, where scores of rebel factions are engaged in fierce battles. ”The army has achieved   gains, advancing significantly,” Gen.      Brig. Gen. Mohammed   Assad told reporters at a conference of foreign ministers in Baghdad. ”We expect a lot from the army. We expect it to gain strength. The army is the great guarantor of freedom and stability in Syria,” he said, using an alternative acronym for the Islamic State. The army was formed following   battles in all   cities in the country, he said. The victories came as the army was moving on. On May 31, the army defeated the Islamic State group in the northern Syria city of Palmyra.   Syrian and foreign media also say the army led by President Bashar   is preparing to take the city. Meanwhile, some 1, 700 civilians and 3, 200 government troops were set to leave    Syria for places    last weekend. The Syrian army said it would send the army’s aviation wing to take the remaining Syrian military members out of Palmyra and deliver them to the     government. And it added that the army’s aircraft carrier would return to its   island in the area\n",
            "\n",
            "[1900 | 4560.46] loss=2.22 avg=2.38\n",
            "[2000 | 4795.58] loss=2.09 avg=2.37\n",
            "Saving checkpoint/run_right_1/model-2000\n"
          ],
          "name": "stdout"
        }
      ]
    },
    {
      "cell_type": "code",
      "metadata": {
        "colab": {
          "base_uri": "https://localhost:8080/"
        },
        "id": "6TwDIS7bCVU-",
        "outputId": "b488561a-5d33-44b1-81d3-55539f1a27ac"
      },
      "source": [
        "gpt2.generate(sess, run_name='run_right_1',\r\n",
        "              length=100,\r\n",
        "              temperature=.7,\r\n",
        "              nsamples=10,\r\n",
        "              batch_size=10,\r\n",
        "              prefix=\"Allowing more immigrants to come into the United States will\",\r\n",
        "              truncate=\"<|endoftext|>\",\r\n",
        "              include_prefix=False\r\n",
        "              )"
      ],
      "execution_count": null,
      "outputs": [
        {
          "output_type": "stream",
          "text": [
            "Allowing more immigrants to come into the United States will lead to more job losses, lower wages, and even bankrupt our economy, all of which could have been avoided by allowing more immigrants to come into the country.” The bill was introduced in a party line vote on the House floor and then voted on the Senate floor for                            Y.) In reply to a question on immigration, House Speaker Paul Ryan,  . Y\n",
            "====================\n",
            "Allowing more immigrants to come into the United States will safeguard our nation from the worst effects of immigration.” The                       Trump said he’d be the “greatest leader ever” of all, but added he’d have to “come back and fix our system. ” “We have to be able to take care of the country,” he said. “I want to work with Hillary\n",
            "====================\n",
            "Allowing more immigrants to come into the United States will have huge economic and social consequences. It will create thousands of jobs, and bring in millions of new people. And it will also have the greatest impact on the economy.    That is something we have not seen in the last 40 years.    But what we have seen is that we have a lot of people on welfare, and we have not seen anything like it in a long time.    So I think we have to have a   immigration system that is fair\n",
            "====================\n",
            "Allowing more immigrants to come into the United States will not only reduce the number of people coming into the country, it will also help them stay in our country.” The projected increase was in line with the administration’s   goal of boosting the visa population. ”We are committed to expanding the number of lawful permanent residents in this country,” Secretary of State John Kerry said in a statement. ”The United States is committed to ensuring that the number of lawful permanent residents in this country continues to grow.” But\n",
            "====================\n",
            "Allowing more immigrants to come into the United States will create a net   of jobs. This is not a   issue. This is not a   issue. This is a   issue. And anyone who says that it’s not    it’s just lying. We, as a country, have to remember that. And people are working harder for our economy than ever before. In fact, the number one reason for the growth of our economy is our growth is the number of American workers. We’\n",
            "====================\n",
            "Allowing more immigrants to come into the United States will not only help our economy, it will also help our country.       There are good reasons to do that, but we must do more. We have a president who is a Christian, who is a Christian, who is a Christian. He wants to help our country.     And he has the courage to do it.     And here I want to offer my credentials.     And I want to offer my credentials.   \n",
            "====================\n",
            "Allowing more immigrants to come into the United States will create a pathway for millions of people to work and earn a decent wage.”  The Associated Press contributed to this report.   \n",
            "After the convention, Clinton supporters shrugged off the proposal, saying it was a ”lame” decision. ”The Republican Party is having a      with Donald Trump,” said Nancy Worley, a retired Army officer who attended the convention and said she will vote for Clinton at the Democratic National Convention. ”\n",
            "====================\n",
            "Allowing more immigrants to come into the United States will benefit the economy and help create jobs. ”    \n",
            " A      Indonesian man was arrested Monday on suspicion of spying for Iran, Fox News reported.  Ishfan Boubaker, the son of Indonesian Prime Minister Susilo Bambang Yudhoyono, was being held at a detention center in Jakarta after Indonesian authorities allegedly tried to seize his passport.  Boubaker is suspected of spying for Iran, and Iran has insisted he is not a terrorist\n",
            "====================\n",
            "Allowing more immigrants to come into the United States will make it harder for families to pay their mortgage, a benefit that could be worth hundreds of thousands of dollars to countries like China or India. ”   \n",
            "    Adam Shaw is a national politics Reporter for FoxNews. com. He covered government, politics and the economy for 15 years. He covered both the Democratic and Republican National Committees for 30. He has 5   presidential campaigns. He is the founder of RedState. com. Adam can be reached on twitter at @\n",
            "====================\n",
            "Allowing more immigrants to come into the United States will create a pathway to prosperity. But it’s not just about going online. It’s also about bringing jobs and jobs to this country.”      PENCE: ”I’m not talking about creating jobs. I’m not talking about bringing jobs and jobs to this country.”      HILLARY: ”We can’t have a wall.”      HUCKAB\n",
            "====================\n"
          ],
          "name": "stdout"
        }
      ]
    },
    {
      "cell_type": "code",
      "metadata": {
        "id": "L_pz1AYKfiWe"
      },
      "source": [
        "gpt2.copy_checkpoint_to_gdrive(run_name='run_right_1')"
      ],
      "execution_count": null,
      "outputs": []
    },
    {
      "cell_type": "code",
      "metadata": {
        "id": "kySCH5lBfxdE"
      },
      "source": [
        "ses = gpt2.start_tf_sess()\r\n",
        "file_name_2 = \"leftcontent.txt\""
      ],
      "execution_count": null,
      "outputs": []
    },
    {
      "cell_type": "code",
      "metadata": {
        "colab": {
          "base_uri": "https://localhost:8080/",
          "height": 614
        },
        "id": "XCm8x94PCApP",
        "outputId": "088426cf-9755-47de-b152-f527c95237a2"
      },
      "source": [
        "#for left content\r\n",
        "gpt2.finetune(ses,\r\n",
        "              dataset=file_name_2,\r\n",
        "              model_name='124M',\r\n",
        "              steps=100,\r\n",
        "              restore_from='fresh',\r\n",
        "              run_name='run_left_1',\r\n",
        "              print_every=10,\r\n",
        "              sample_every=200,\r\n",
        "              save_every=500,\r\n",
        "              )"
      ],
      "execution_count": null,
      "outputs": [
        {
          "output_type": "error",
          "ename": "ValueError",
          "evalue": "ignored",
          "traceback": [
            "\u001b[0;31m---------------------------------------------------------------------------\u001b[0m",
            "\u001b[0;31mValueError\u001b[0m                                Traceback (most recent call last)",
            "\u001b[0;32m<ipython-input-22-8ad4c61320ab>\u001b[0m in \u001b[0;36m<module>\u001b[0;34m()\u001b[0m\n\u001b[1;32m      8\u001b[0m               \u001b[0mprint_every\u001b[0m\u001b[0;34m=\u001b[0m\u001b[0;36m10\u001b[0m\u001b[0;34m,\u001b[0m\u001b[0;34m\u001b[0m\u001b[0;34m\u001b[0m\u001b[0m\n\u001b[1;32m      9\u001b[0m               \u001b[0msample_every\u001b[0m\u001b[0;34m=\u001b[0m\u001b[0;36m200\u001b[0m\u001b[0;34m,\u001b[0m\u001b[0;34m\u001b[0m\u001b[0;34m\u001b[0m\u001b[0m\n\u001b[0;32m---> 10\u001b[0;31m               \u001b[0msave_every\u001b[0m\u001b[0;34m=\u001b[0m\u001b[0;36m500\u001b[0m\u001b[0;34m,\u001b[0m\u001b[0;34m\u001b[0m\u001b[0;34m\u001b[0m\u001b[0m\n\u001b[0m\u001b[1;32m     11\u001b[0m               )\n",
            "\u001b[0;32m/usr/local/lib/python3.7/dist-packages/gpt_2_simple/gpt_2.py\u001b[0m in \u001b[0;36mfinetune\u001b[0;34m(sess, dataset, steps, model_name, model_dir, combine, batch_size, learning_rate, accumulate_gradients, restore_from, run_name, checkpoint_dir, sample_every, sample_length, sample_num, multi_gpu, save_every, print_every, max_checkpoints, use_memory_saving_gradients, only_train_transformer_layers, optimizer, overwrite)\u001b[0m\n\u001b[1;32m    196\u001b[0m         \u001b[0mgpus\u001b[0m \u001b[0;34m=\u001b[0m \u001b[0mget_available_gpus\u001b[0m\u001b[0;34m(\u001b[0m\u001b[0;34m)\u001b[0m\u001b[0;34m\u001b[0m\u001b[0;34m\u001b[0m\u001b[0m\n\u001b[1;32m    197\u001b[0m \u001b[0;34m\u001b[0m\u001b[0m\n\u001b[0;32m--> 198\u001b[0;31m     \u001b[0moutput\u001b[0m \u001b[0;34m=\u001b[0m \u001b[0mmodel\u001b[0m\u001b[0;34m.\u001b[0m\u001b[0mmodel\u001b[0m\u001b[0;34m(\u001b[0m\u001b[0mhparams\u001b[0m\u001b[0;34m=\u001b[0m\u001b[0mhparams\u001b[0m\u001b[0;34m,\u001b[0m \u001b[0mX\u001b[0m\u001b[0;34m=\u001b[0m\u001b[0mcontext\u001b[0m\u001b[0;34m,\u001b[0m \u001b[0mgpus\u001b[0m\u001b[0;34m=\u001b[0m\u001b[0mgpus\u001b[0m\u001b[0;34m)\u001b[0m\u001b[0;34m\u001b[0m\u001b[0;34m\u001b[0m\u001b[0m\n\u001b[0m\u001b[1;32m    199\u001b[0m     loss = tf.reduce_mean(\n\u001b[1;32m    200\u001b[0m         input_tensor=tf.nn.sparse_softmax_cross_entropy_with_logits(\n",
            "\u001b[0;32m/usr/local/lib/python3.7/dist-packages/gpt_2_simple/src/model.py\u001b[0m in \u001b[0;36mmodel\u001b[0;34m(hparams, X, past, scope, gpus, reuse)\u001b[0m\n\u001b[1;32m    181\u001b[0m \u001b[0;34m\u001b[0m\u001b[0m\n\u001b[1;32m    182\u001b[0m         wpe = tf.compat.v1.get_variable('wpe', [hparams.n_ctx, hparams.n_embd],\n\u001b[0;32m--> 183\u001b[0;31m                              initializer=tf.compat.v1.random_normal_initializer(stddev=0.01))\n\u001b[0m\u001b[1;32m    184\u001b[0m         wte = tf.compat.v1.get_variable('wte', [hparams.n_vocab, hparams.n_embd],\n\u001b[1;32m    185\u001b[0m                              initializer=tf.compat.v1.random_normal_initializer(stddev=0.02))\n",
            "\u001b[0;32m/usr/local/lib/python3.7/dist-packages/tensorflow_core/python/ops/variable_scope.py\u001b[0m in \u001b[0;36mget_variable\u001b[0;34m(name, shape, dtype, initializer, regularizer, trainable, collections, caching_device, partitioner, validate_shape, use_resource, custom_getter, constraint, synchronization, aggregation)\u001b[0m\n\u001b[1;32m   1498\u001b[0m       \u001b[0mconstraint\u001b[0m\u001b[0;34m=\u001b[0m\u001b[0mconstraint\u001b[0m\u001b[0;34m,\u001b[0m\u001b[0;34m\u001b[0m\u001b[0;34m\u001b[0m\u001b[0m\n\u001b[1;32m   1499\u001b[0m       \u001b[0msynchronization\u001b[0m\u001b[0;34m=\u001b[0m\u001b[0msynchronization\u001b[0m\u001b[0;34m,\u001b[0m\u001b[0;34m\u001b[0m\u001b[0;34m\u001b[0m\u001b[0m\n\u001b[0;32m-> 1500\u001b[0;31m       aggregation=aggregation)\n\u001b[0m\u001b[1;32m   1501\u001b[0m \u001b[0;34m\u001b[0m\u001b[0m\n\u001b[1;32m   1502\u001b[0m \u001b[0;34m\u001b[0m\u001b[0m\n",
            "\u001b[0;32m/usr/local/lib/python3.7/dist-packages/tensorflow_core/python/ops/variable_scope.py\u001b[0m in \u001b[0;36mget_variable\u001b[0;34m(self, var_store, name, shape, dtype, initializer, regularizer, reuse, trainable, collections, caching_device, partitioner, validate_shape, use_resource, custom_getter, constraint, synchronization, aggregation)\u001b[0m\n\u001b[1;32m   1241\u001b[0m           \u001b[0mconstraint\u001b[0m\u001b[0;34m=\u001b[0m\u001b[0mconstraint\u001b[0m\u001b[0;34m,\u001b[0m\u001b[0;34m\u001b[0m\u001b[0;34m\u001b[0m\u001b[0m\n\u001b[1;32m   1242\u001b[0m           \u001b[0msynchronization\u001b[0m\u001b[0;34m=\u001b[0m\u001b[0msynchronization\u001b[0m\u001b[0;34m,\u001b[0m\u001b[0;34m\u001b[0m\u001b[0;34m\u001b[0m\u001b[0m\n\u001b[0;32m-> 1243\u001b[0;31m           aggregation=aggregation)\n\u001b[0m\u001b[1;32m   1244\u001b[0m \u001b[0;34m\u001b[0m\u001b[0m\n\u001b[1;32m   1245\u001b[0m   def _get_partitioned_variable(self,\n",
            "\u001b[0;32m/usr/local/lib/python3.7/dist-packages/tensorflow_core/python/ops/variable_scope.py\u001b[0m in \u001b[0;36mget_variable\u001b[0;34m(self, name, shape, dtype, initializer, regularizer, reuse, trainable, collections, caching_device, partitioner, validate_shape, use_resource, custom_getter, constraint, synchronization, aggregation)\u001b[0m\n\u001b[1;32m    565\u001b[0m           \u001b[0mconstraint\u001b[0m\u001b[0;34m=\u001b[0m\u001b[0mconstraint\u001b[0m\u001b[0;34m,\u001b[0m\u001b[0;34m\u001b[0m\u001b[0;34m\u001b[0m\u001b[0m\n\u001b[1;32m    566\u001b[0m           \u001b[0msynchronization\u001b[0m\u001b[0;34m=\u001b[0m\u001b[0msynchronization\u001b[0m\u001b[0;34m,\u001b[0m\u001b[0;34m\u001b[0m\u001b[0;34m\u001b[0m\u001b[0m\n\u001b[0;32m--> 567\u001b[0;31m           aggregation=aggregation)\n\u001b[0m\u001b[1;32m    568\u001b[0m \u001b[0;34m\u001b[0m\u001b[0m\n\u001b[1;32m    569\u001b[0m   def _get_partitioned_variable(self,\n",
            "\u001b[0;32m/usr/local/lib/python3.7/dist-packages/tensorflow_core/python/ops/variable_scope.py\u001b[0m in \u001b[0;36m_true_getter\u001b[0;34m(name, shape, dtype, initializer, regularizer, reuse, trainable, collections, caching_device, partitioner, validate_shape, use_resource, constraint, synchronization, aggregation)\u001b[0m\n\u001b[1;32m    517\u001b[0m           \u001b[0mconstraint\u001b[0m\u001b[0;34m=\u001b[0m\u001b[0mconstraint\u001b[0m\u001b[0;34m,\u001b[0m\u001b[0;34m\u001b[0m\u001b[0;34m\u001b[0m\u001b[0m\n\u001b[1;32m    518\u001b[0m           \u001b[0msynchronization\u001b[0m\u001b[0;34m=\u001b[0m\u001b[0msynchronization\u001b[0m\u001b[0;34m,\u001b[0m\u001b[0;34m\u001b[0m\u001b[0;34m\u001b[0m\u001b[0m\n\u001b[0;32m--> 519\u001b[0;31m           aggregation=aggregation)\n\u001b[0m\u001b[1;32m    520\u001b[0m \u001b[0;34m\u001b[0m\u001b[0m\n\u001b[1;32m    521\u001b[0m     synchronization, aggregation, trainable = (\n",
            "\u001b[0;32m/usr/local/lib/python3.7/dist-packages/tensorflow_core/python/ops/variable_scope.py\u001b[0m in \u001b[0;36m_get_single_variable\u001b[0;34m(self, name, shape, dtype, initializer, regularizer, partition_info, reuse, trainable, collections, caching_device, validate_shape, use_resource, constraint, synchronization, aggregation)\u001b[0m\n\u001b[1;32m    866\u001b[0m         \u001b[0mtb\u001b[0m \u001b[0;34m=\u001b[0m \u001b[0;34m[\u001b[0m\u001b[0mx\u001b[0m \u001b[0;32mfor\u001b[0m \u001b[0mx\u001b[0m \u001b[0;32min\u001b[0m \u001b[0mtb\u001b[0m \u001b[0;32mif\u001b[0m \u001b[0;34m\"tensorflow/python\"\u001b[0m \u001b[0;32mnot\u001b[0m \u001b[0;32min\u001b[0m \u001b[0mx\u001b[0m\u001b[0;34m[\u001b[0m\u001b[0;36m0\u001b[0m\u001b[0;34m]\u001b[0m\u001b[0;34m]\u001b[0m\u001b[0;34m[\u001b[0m\u001b[0;34m:\u001b[0m\u001b[0;36m5\u001b[0m\u001b[0;34m]\u001b[0m\u001b[0;34m\u001b[0m\u001b[0;34m\u001b[0m\u001b[0m\n\u001b[1;32m    867\u001b[0m         raise ValueError(\"%s Originally defined at:\\n\\n%s\" %\n\u001b[0;32m--> 868\u001b[0;31m                          (err_msg, \"\".join(traceback.format_list(tb))))\n\u001b[0m\u001b[1;32m    869\u001b[0m       \u001b[0mfound_var\u001b[0m \u001b[0;34m=\u001b[0m \u001b[0mself\u001b[0m\u001b[0;34m.\u001b[0m\u001b[0m_vars\u001b[0m\u001b[0;34m[\u001b[0m\u001b[0mname\u001b[0m\u001b[0;34m]\u001b[0m\u001b[0;34m\u001b[0m\u001b[0;34m\u001b[0m\u001b[0m\n\u001b[1;32m    870\u001b[0m       \u001b[0;32mif\u001b[0m \u001b[0;32mnot\u001b[0m \u001b[0mshape\u001b[0m\u001b[0;34m.\u001b[0m\u001b[0mis_compatible_with\u001b[0m\u001b[0;34m(\u001b[0m\u001b[0mfound_var\u001b[0m\u001b[0;34m.\u001b[0m\u001b[0mget_shape\u001b[0m\u001b[0;34m(\u001b[0m\u001b[0;34m)\u001b[0m\u001b[0;34m)\u001b[0m\u001b[0;34m:\u001b[0m\u001b[0;34m\u001b[0m\u001b[0;34m\u001b[0m\u001b[0m\n",
            "\u001b[0;31mValueError\u001b[0m: Variable model/wpe already exists, disallowed. Did you mean to set reuse=True or reuse=tf.AUTO_REUSE in VarScope? Originally defined at:\n\n  File \"/usr/local/lib/python3.7/dist-packages/tensorflow_core/python/framework/ops.py\", line 1748, in __init__\n    self._traceback = tf_stack.extract_stack()\n  File \"/usr/local/lib/python3.7/dist-packages/tensorflow_core/python/framework/ops.py\", line 3426, in _create_op_internal\n    op_def=op_def)\n  File \"/usr/local/lib/python3.7/dist-packages/tensorflow_core/python/framework/ops.py\", line 3357, in create_op\n    attrs, op_def, compute_device)\n  File \"/usr/local/lib/python3.7/dist-packages/tensorflow_core/python/util/deprecation.py\", line 507, in new_func\n    return func(*args, **kwargs)\n  File \"/usr/local/lib/python3.7/dist-packages/tensorflow_core/python/framework/op_def_library.py\", line 794, in _apply_op_helper\n    op_def=op_def)\n"
          ]
        }
      ]
    },
    {
      "cell_type": "code",
      "metadata": {
        "id": "RIZpaVCUD2vV"
      },
      "source": [
        "gpt2.generate(sess, run_name='run_left_1',\r\n",
        "              length=100,\r\n",
        "              temperature=.7,\r\n",
        "              nsamples=10,\r\n",
        "              batch_size=10,\r\n",
        "              prefix=\"Allowing more immigrants to come into the United States will\",\r\n",
        "              truncate=\"<|endoftext|>\",\r\n",
        "              include_prefix=True\r\n",
        "              )"
      ],
      "execution_count": null,
      "outputs": []
    },
    {
      "cell_type": "code",
      "metadata": {
        "id": "xYJXHK2prr_g"
      },
      "source": [
        ""
      ],
      "execution_count": null,
      "outputs": []
    }
  ]
}